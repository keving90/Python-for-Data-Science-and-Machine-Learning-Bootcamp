{
 "cells": [
  {
   "cell_type": "markdown",
   "metadata": {},
   "source": [
    "# Part 2 (Optional)\n",
    "\n",
    "In this second part of the project we will rely on the cufflinks library to create some Technical Analysis plots. This part of the project is experimental due to its heavy reliance on the cuffinks project, so feel free to skip it if any functionality is broken in the future."
   ]
  },
  {
   "cell_type": "code",
   "execution_count": 17,
   "metadata": {},
   "outputs": [],
   "source": [
    "from pandas_datareader import data, wb\n",
    "import pandas as pd\n",
    "import numpy as np\n",
    "import datetime\n",
    "import seaborn as sns\n",
    "from plotly.offline import download_plotlyjs, init_notebook_mode, plot, iplot\n",
    "import cufflinks as cf\n",
    "%matplotlib inline"
   ]
  },
  {
   "cell_type": "code",
   "execution_count": 8,
   "metadata": {
    "collapsed": true
   },
   "outputs": [],
   "source": [
    "bank_stocks = pd.read_pickle('all_banks')"
   ]
  },
  {
   "cell_type": "code",
   "execution_count": 9,
   "metadata": {},
   "outputs": [
    {
     "data": {
      "text/html": [
       "<div>\n",
       "<style>\n",
       "    .dataframe thead tr:only-child th {\n",
       "        text-align: right;\n",
       "    }\n",
       "\n",
       "    .dataframe thead th {\n",
       "        text-align: left;\n",
       "    }\n",
       "\n",
       "    .dataframe tbody tr th {\n",
       "        vertical-align: top;\n",
       "    }\n",
       "</style>\n",
       "<table border=\"1\" class=\"dataframe\">\n",
       "  <thead>\n",
       "    <tr>\n",
       "      <th>Bank Ticker</th>\n",
       "      <th colspan=\"5\" halign=\"left\">BAC</th>\n",
       "      <th colspan=\"5\" halign=\"left\">C</th>\n",
       "      <th>...</th>\n",
       "      <th colspan=\"5\" halign=\"left\">MS</th>\n",
       "      <th colspan=\"5\" halign=\"left\">WFC</th>\n",
       "    </tr>\n",
       "    <tr>\n",
       "      <th>Stock Info</th>\n",
       "      <th>Open</th>\n",
       "      <th>High</th>\n",
       "      <th>Low</th>\n",
       "      <th>Close</th>\n",
       "      <th>Volume</th>\n",
       "      <th>Open</th>\n",
       "      <th>High</th>\n",
       "      <th>Low</th>\n",
       "      <th>Close</th>\n",
       "      <th>Volume</th>\n",
       "      <th>...</th>\n",
       "      <th>Open</th>\n",
       "      <th>High</th>\n",
       "      <th>Low</th>\n",
       "      <th>Close</th>\n",
       "      <th>Volume</th>\n",
       "      <th>Open</th>\n",
       "      <th>High</th>\n",
       "      <th>Low</th>\n",
       "      <th>Close</th>\n",
       "      <th>Volume</th>\n",
       "    </tr>\n",
       "    <tr>\n",
       "      <th>Date</th>\n",
       "      <th></th>\n",
       "      <th></th>\n",
       "      <th></th>\n",
       "      <th></th>\n",
       "      <th></th>\n",
       "      <th></th>\n",
       "      <th></th>\n",
       "      <th></th>\n",
       "      <th></th>\n",
       "      <th></th>\n",
       "      <th></th>\n",
       "      <th></th>\n",
       "      <th></th>\n",
       "      <th></th>\n",
       "      <th></th>\n",
       "      <th></th>\n",
       "      <th></th>\n",
       "      <th></th>\n",
       "      <th></th>\n",
       "      <th></th>\n",
       "      <th></th>\n",
       "    </tr>\n",
       "  </thead>\n",
       "  <tbody>\n",
       "    <tr>\n",
       "      <th>2006-01-03</th>\n",
       "      <td>46.92</td>\n",
       "      <td>47.18</td>\n",
       "      <td>46.15</td>\n",
       "      <td>47.08</td>\n",
       "      <td>16296700</td>\n",
       "      <td>490.0</td>\n",
       "      <td>493.8</td>\n",
       "      <td>481.1</td>\n",
       "      <td>492.9</td>\n",
       "      <td>1537660</td>\n",
       "      <td>...</td>\n",
       "      <td>57.17</td>\n",
       "      <td>58.49</td>\n",
       "      <td>56.74</td>\n",
       "      <td>58.31</td>\n",
       "      <td>5377000</td>\n",
       "      <td>31.60</td>\n",
       "      <td>31.98</td>\n",
       "      <td>31.20</td>\n",
       "      <td>31.90</td>\n",
       "      <td>11016400</td>\n",
       "    </tr>\n",
       "    <tr>\n",
       "      <th>2006-01-04</th>\n",
       "      <td>47.00</td>\n",
       "      <td>47.24</td>\n",
       "      <td>46.45</td>\n",
       "      <td>46.58</td>\n",
       "      <td>17757900</td>\n",
       "      <td>488.6</td>\n",
       "      <td>491.0</td>\n",
       "      <td>483.5</td>\n",
       "      <td>483.8</td>\n",
       "      <td>1871020</td>\n",
       "      <td>...</td>\n",
       "      <td>58.70</td>\n",
       "      <td>59.28</td>\n",
       "      <td>58.35</td>\n",
       "      <td>58.35</td>\n",
       "      <td>7977800</td>\n",
       "      <td>31.80</td>\n",
       "      <td>31.82</td>\n",
       "      <td>31.36</td>\n",
       "      <td>31.53</td>\n",
       "      <td>10871000</td>\n",
       "    </tr>\n",
       "    <tr>\n",
       "      <th>2006-01-05</th>\n",
       "      <td>46.58</td>\n",
       "      <td>46.83</td>\n",
       "      <td>46.32</td>\n",
       "      <td>46.64</td>\n",
       "      <td>14970900</td>\n",
       "      <td>484.4</td>\n",
       "      <td>487.8</td>\n",
       "      <td>484.0</td>\n",
       "      <td>486.2</td>\n",
       "      <td>1143160</td>\n",
       "      <td>...</td>\n",
       "      <td>58.55</td>\n",
       "      <td>58.59</td>\n",
       "      <td>58.02</td>\n",
       "      <td>58.51</td>\n",
       "      <td>5778000</td>\n",
       "      <td>31.50</td>\n",
       "      <td>31.56</td>\n",
       "      <td>31.31</td>\n",
       "      <td>31.50</td>\n",
       "      <td>10158000</td>\n",
       "    </tr>\n",
       "    <tr>\n",
       "      <th>2006-01-06</th>\n",
       "      <td>46.80</td>\n",
       "      <td>46.91</td>\n",
       "      <td>46.35</td>\n",
       "      <td>46.57</td>\n",
       "      <td>12599800</td>\n",
       "      <td>488.8</td>\n",
       "      <td>489.0</td>\n",
       "      <td>482.0</td>\n",
       "      <td>486.2</td>\n",
       "      <td>1370250</td>\n",
       "      <td>...</td>\n",
       "      <td>58.77</td>\n",
       "      <td>58.85</td>\n",
       "      <td>58.05</td>\n",
       "      <td>58.57</td>\n",
       "      <td>6889800</td>\n",
       "      <td>31.58</td>\n",
       "      <td>31.78</td>\n",
       "      <td>31.38</td>\n",
       "      <td>31.68</td>\n",
       "      <td>8403800</td>\n",
       "    </tr>\n",
       "    <tr>\n",
       "      <th>2006-01-09</th>\n",
       "      <td>46.72</td>\n",
       "      <td>46.97</td>\n",
       "      <td>46.36</td>\n",
       "      <td>46.60</td>\n",
       "      <td>15620000</td>\n",
       "      <td>486.0</td>\n",
       "      <td>487.4</td>\n",
       "      <td>483.0</td>\n",
       "      <td>483.9</td>\n",
       "      <td>1680740</td>\n",
       "      <td>...</td>\n",
       "      <td>58.63</td>\n",
       "      <td>59.29</td>\n",
       "      <td>58.62</td>\n",
       "      <td>59.19</td>\n",
       "      <td>4144500</td>\n",
       "      <td>31.68</td>\n",
       "      <td>31.82</td>\n",
       "      <td>31.56</td>\n",
       "      <td>31.68</td>\n",
       "      <td>5619600</td>\n",
       "    </tr>\n",
       "  </tbody>\n",
       "</table>\n",
       "<p>5 rows × 30 columns</p>\n",
       "</div>"
      ],
      "text/plain": [
       "Bank Ticker    BAC                                     C                       \\\n",
       "Stock Info    Open   High    Low  Close    Volume   Open   High    Low  Close   \n",
       "Date                                                                            \n",
       "2006-01-03   46.92  47.18  46.15  47.08  16296700  490.0  493.8  481.1  492.9   \n",
       "2006-01-04   47.00  47.24  46.45  46.58  17757900  488.6  491.0  483.5  483.8   \n",
       "2006-01-05   46.58  46.83  46.32  46.64  14970900  484.4  487.8  484.0  486.2   \n",
       "2006-01-06   46.80  46.91  46.35  46.57  12599800  488.8  489.0  482.0  486.2   \n",
       "2006-01-09   46.72  46.97  46.36  46.60  15620000  486.0  487.4  483.0  483.9   \n",
       "\n",
       "Bank Ticker             ...        MS                                  WFC  \\\n",
       "Stock Info    Volume    ...      Open   High    Low  Close   Volume   Open   \n",
       "Date                    ...                                                  \n",
       "2006-01-03   1537660    ...     57.17  58.49  56.74  58.31  5377000  31.60   \n",
       "2006-01-04   1871020    ...     58.70  59.28  58.35  58.35  7977800  31.80   \n",
       "2006-01-05   1143160    ...     58.55  58.59  58.02  58.51  5778000  31.50   \n",
       "2006-01-06   1370250    ...     58.77  58.85  58.05  58.57  6889800  31.58   \n",
       "2006-01-09   1680740    ...     58.63  59.29  58.62  59.19  4144500  31.68   \n",
       "\n",
       "Bank Ticker                                 \n",
       "Stock Info    High    Low  Close    Volume  \n",
       "Date                                        \n",
       "2006-01-03   31.98  31.20  31.90  11016400  \n",
       "2006-01-04   31.82  31.36  31.53  10871000  \n",
       "2006-01-05   31.56  31.31  31.50  10158000  \n",
       "2006-01-06   31.78  31.38  31.68   8403800  \n",
       "2006-01-09   31.82  31.56  31.68   5619600  \n",
       "\n",
       "[5 rows x 30 columns]"
      ]
     },
     "execution_count": 9,
     "metadata": {},
     "output_type": "execute_result"
    }
   ],
   "source": [
    "bank_stocks.head()"
   ]
  },
  {
   "cell_type": "markdown",
   "metadata": {},
   "source": [
    "** Use .iplot(kind='candle) to create a candle plot of Bank of America's stock from Jan 1st 2015 to Jan 1st 2016.**"
   ]
  },
  {
   "cell_type": "code",
   "execution_count": 18,
   "metadata": {},
   "outputs": [
    {
     "data": {
      "text/html": [
       "<iframe id=\"igraph\" scrolling=\"no\" style=\"border:none;\" seamless=\"seamless\" src=\"https://plot.ly/~keving90/3.embed\" height=\"525px\" width=\"100%\"></iframe>"
      ],
      "text/plain": [
       "<plotly.tools.PlotlyDisplay object>"
      ]
     },
     "execution_count": 18,
     "metadata": {},
     "output_type": "execute_result"
    }
   ],
   "source": [
    "bank_stocks['BAC'].loc['2015-01-01':'2016-01-01'].iplot(kind='candle')"
   ]
  },
  {
   "cell_type": "markdown",
   "metadata": {},
   "source": [
    "** Use .ta_plot(study='sma') to create a Simple Moving Averages plot of Morgan Stanley for the year 2015.**"
   ]
  },
  {
   "cell_type": "code",
   "execution_count": 20,
   "metadata": {},
   "outputs": [
    {
     "data": {
      "text/html": [
       "<iframe id=\"igraph\" scrolling=\"no\" style=\"border:none;\" seamless=\"seamless\" src=\"https://plot.ly/~keving90/7.embed\" height=\"525px\" width=\"100%\"></iframe>"
      ],
      "text/plain": [
       "<plotly.tools.PlotlyDisplay object>"
      ]
     },
     "execution_count": 20,
     "metadata": {},
     "output_type": "execute_result"
    }
   ],
   "source": [
    "bank_stocks['MS'].loc['2015-01-01':'2016-01-01'].ta_plot(study='sma')"
   ]
  },
  {
   "cell_type": "markdown",
   "metadata": {},
   "source": [
    "**Use .ta_plot(study='boll') to create a Bollinger Band Plot for Bank of America for the year 2015.**"
   ]
  },
  {
   "cell_type": "code",
   "execution_count": 21,
   "metadata": {},
   "outputs": [
    {
     "data": {
      "text/html": [
       "<iframe id=\"igraph\" scrolling=\"no\" style=\"border:none;\" seamless=\"seamless\" src=\"https://plot.ly/~keving90/9.embed\" height=\"525px\" width=\"100%\"></iframe>"
      ],
      "text/plain": [
       "<plotly.tools.PlotlyDisplay object>"
      ]
     },
     "execution_count": 21,
     "metadata": {},
     "output_type": "execute_result"
    }
   ],
   "source": [
    "bank_stocks['BAC'].loc['2015-01-01':'2016-01-01'].ta_plot(study='sma')"
   ]
  },
  {
   "cell_type": "markdown",
   "metadata": {},
   "source": [
    "# Great Job!\n",
    "\n",
    "Definitely a lot of more specific finance topics here, so don't worry if you didn't understand them all! The only thing you should be concerned with understanding are the basic pandas and visualization oeprations."
   ]
  }
 ],
 "metadata": {
  "kernelspec": {
   "display_name": "cufflinksEnv",
   "language": "python",
   "name": "cufflinksenv"
  },
  "language_info": {
   "codemirror_mode": {
    "name": "ipython",
    "version": 3
   },
   "file_extension": ".py",
   "mimetype": "text/x-python",
   "name": "python",
   "nbconvert_exporter": "python",
   "pygments_lexer": "ipython3",
   "version": "3.4.3"
  }
 },
 "nbformat": 4,
 "nbformat_minor": 2
}

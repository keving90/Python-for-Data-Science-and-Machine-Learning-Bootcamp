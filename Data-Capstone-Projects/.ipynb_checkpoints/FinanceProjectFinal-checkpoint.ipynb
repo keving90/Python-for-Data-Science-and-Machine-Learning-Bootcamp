{
 "cells": [
  {
   "cell_type": "markdown",
   "metadata": {},
   "source": [
    "___\n",
    "\n",
    "<a href='http://www.pieriandata.com'> <img src='../Pierian_Data_Logo.png' /></a>\n",
    "___"
   ]
  },
  {
   "cell_type": "markdown",
   "metadata": {},
   "source": [
    "# Finance Data Project \n",
    "\n",
    "In this data project we will focus on exploratory data analysis of stock prices. Keep in mind, this project is just meant to practice your visualization and pandas skills, it is not meant to be a robust financial analysis or be taken as financial advice.\n",
    "____\n",
    "** NOTE: This project is extremely challenging because it will introduce a lot of new concepts and have you looking things up on your own (we'll point you in the right direction) to try to solve the tasks issued. Feel free to just go through the solutions lecture notebook and video as a \"walkthrough\" project if you don't want to have to look things up yourself. You'll still learn a lot that way! **\n",
    "____\n",
    "We'll focus on bank stocks and see how they progressed throughout the [financial crisis](https://en.wikipedia.org/wiki/Financial_crisis_of_2007%E2%80%9308) all the way to early 2016."
   ]
  },
  {
   "cell_type": "markdown",
   "metadata": {},
   "source": [
    "## Get the Data\n",
    "\n",
    "In this section we will learn how to use pandas to directly read data from Google finance using pandas!\n",
    "\n",
    "First we need to start with the proper imports, which we've already laid out for you here.\n",
    "\n",
    "*Note: [You'll need to install pandas-datareader for this to work!](https://github.com/pydata/pandas-datareader) Pandas datareader allows you to [read stock information directly from the internet](http://pandas.pydata.org/pandas-docs/stable/remote_data.html) Use these links for install guidance (**pip install pandas-datareader**), or just follow along with the video lecture.*\n",
    "\n",
    "### The Imports\n",
    "\n",
    "Already filled out for you."
   ]
  },
  {
   "cell_type": "code",
   "execution_count": 127,
   "metadata": {
    "collapsed": true
   },
   "outputs": [],
   "source": [
    "from pandas_datareader import data, wb\n",
    "import pandas as pd\n",
    "import numpy as np\n",
    "import datetime\n",
    "import seaborn as sns\n",
    "%matplotlib inline"
   ]
  },
  {
   "cell_type": "markdown",
   "metadata": {},
   "source": [
    "## Data\n",
    "\n",
    "We need to get data using pandas datareader. We will get stock information for the following banks:\n",
    "*  Bank of America\n",
    "* CitiGroup\n",
    "* Goldman Sachs\n",
    "* JPMorgan Chase\n",
    "* Morgan Stanley\n",
    "* Wells Fargo\n",
    "\n",
    "** Figure out how to get the stock data from Jan 1st 2006 to Jan 1st 2016 for each of these banks. Set each bank to be a separate dataframe, with the variable name for that bank being its ticker symbol. This will involve a few steps:**\n",
    "1. Use datetime to set start and end datetime objects.\n",
    "2. Figure out the ticker symbol for each bank.\n",
    "2. Figure out how to use datareader to grab info on the stock.\n",
    "\n",
    "** Use [this documentation page](http://pandas.pydata.org/pandas-docs/stable/remote_data.html) for hints and instructions (it should just be a matter of replacing certain values. Use google finance as a source, for example:**\n",
    "    \n",
    "    # Bank of America\n",
    "    BAC = data.DataReader(\"BAC\", 'google', start, end)\n"
   ]
  },
  {
   "cell_type": "code",
   "execution_count": 27,
   "metadata": {
    "collapsed": true
   },
   "outputs": [],
   "source": [
    "# BAC, C, GS, JPM, MS, WFC\n",
    "start = datetime.datetime(2006, 1, 1)\n",
    "end = datetime.datetime(2016, 1, 1)"
   ]
  },
  {
   "cell_type": "code",
   "execution_count": 44,
   "metadata": {},
   "outputs": [
    {
     "data": {
      "text/html": [
       "<div>\n",
       "<style>\n",
       "    .dataframe thead tr:only-child th {\n",
       "        text-align: right;\n",
       "    }\n",
       "\n",
       "    .dataframe thead th {\n",
       "        text-align: left;\n",
       "    }\n",
       "\n",
       "    .dataframe tbody tr th {\n",
       "        vertical-align: top;\n",
       "    }\n",
       "</style>\n",
       "<table border=\"1\" class=\"dataframe\">\n",
       "  <thead>\n",
       "    <tr style=\"text-align: right;\">\n",
       "      <th></th>\n",
       "      <th>Open</th>\n",
       "      <th>High</th>\n",
       "      <th>Low</th>\n",
       "      <th>Close</th>\n",
       "      <th>Adj Close</th>\n",
       "      <th>Volume</th>\n",
       "    </tr>\n",
       "    <tr>\n",
       "      <th>Date</th>\n",
       "      <th></th>\n",
       "      <th></th>\n",
       "      <th></th>\n",
       "      <th></th>\n",
       "      <th></th>\n",
       "      <th></th>\n",
       "    </tr>\n",
       "  </thead>\n",
       "  <tbody>\n",
       "    <tr>\n",
       "      <th>2006-01-03</th>\n",
       "      <td>46.919998</td>\n",
       "      <td>47.180000</td>\n",
       "      <td>46.150002</td>\n",
       "      <td>47.080002</td>\n",
       "      <td>37.157749</td>\n",
       "      <td>16296700</td>\n",
       "    </tr>\n",
       "    <tr>\n",
       "      <th>2006-01-04</th>\n",
       "      <td>47.000000</td>\n",
       "      <td>47.240002</td>\n",
       "      <td>46.450001</td>\n",
       "      <td>46.580002</td>\n",
       "      <td>36.763119</td>\n",
       "      <td>17757900</td>\n",
       "    </tr>\n",
       "    <tr>\n",
       "      <th>2006-01-05</th>\n",
       "      <td>46.580002</td>\n",
       "      <td>46.830002</td>\n",
       "      <td>46.320000</td>\n",
       "      <td>46.639999</td>\n",
       "      <td>36.810474</td>\n",
       "      <td>14970700</td>\n",
       "    </tr>\n",
       "    <tr>\n",
       "      <th>2006-01-06</th>\n",
       "      <td>46.799999</td>\n",
       "      <td>46.910000</td>\n",
       "      <td>46.349998</td>\n",
       "      <td>46.570000</td>\n",
       "      <td>36.755238</td>\n",
       "      <td>12599800</td>\n",
       "    </tr>\n",
       "    <tr>\n",
       "      <th>2006-01-09</th>\n",
       "      <td>46.720001</td>\n",
       "      <td>46.970001</td>\n",
       "      <td>46.360001</td>\n",
       "      <td>46.599998</td>\n",
       "      <td>36.778908</td>\n",
       "      <td>15619400</td>\n",
       "    </tr>\n",
       "  </tbody>\n",
       "</table>\n",
       "</div>"
      ],
      "text/plain": [
       "                 Open       High        Low      Close  Adj Close    Volume\n",
       "Date                                                                       \n",
       "2006-01-03  46.919998  47.180000  46.150002  47.080002  37.157749  16296700\n",
       "2006-01-04  47.000000  47.240002  46.450001  46.580002  36.763119  17757900\n",
       "2006-01-05  46.580002  46.830002  46.320000  46.639999  36.810474  14970700\n",
       "2006-01-06  46.799999  46.910000  46.349998  46.570000  36.755238  12599800\n",
       "2006-01-09  46.720001  46.970001  46.360001  46.599998  36.778908  15619400"
      ]
     },
     "execution_count": 44,
     "metadata": {},
     "output_type": "execute_result"
    }
   ],
   "source": [
    "# having issues with google, so I used yahoo instead\n",
    "# I actually wound up just using the dataset provided by the instructor because yahoo is giving different results\n",
    "BAC = data.DataReader('BAC', 'yahoo', start, end)\n",
    "BAC.head()"
   ]
  },
  {
   "cell_type": "code",
   "execution_count": 46,
   "metadata": {},
   "outputs": [
    {
     "data": {
      "text/html": [
       "<div>\n",
       "<style>\n",
       "    .dataframe thead tr:only-child th {\n",
       "        text-align: right;\n",
       "    }\n",
       "\n",
       "    .dataframe thead th {\n",
       "        text-align: left;\n",
       "    }\n",
       "\n",
       "    .dataframe tbody tr th {\n",
       "        vertical-align: top;\n",
       "    }\n",
       "</style>\n",
       "<table border=\"1\" class=\"dataframe\">\n",
       "  <thead>\n",
       "    <tr style=\"text-align: right;\">\n",
       "      <th></th>\n",
       "      <th>Open</th>\n",
       "      <th>High</th>\n",
       "      <th>Low</th>\n",
       "      <th>Close</th>\n",
       "      <th>Adj Close</th>\n",
       "      <th>Volume</th>\n",
       "    </tr>\n",
       "    <tr>\n",
       "      <th>Date</th>\n",
       "      <th></th>\n",
       "      <th></th>\n",
       "      <th></th>\n",
       "      <th></th>\n",
       "      <th></th>\n",
       "      <th></th>\n",
       "    </tr>\n",
       "  </thead>\n",
       "  <tbody>\n",
       "    <tr>\n",
       "      <th>2006-01-03</th>\n",
       "      <td>490.000000</td>\n",
       "      <td>493.799988</td>\n",
       "      <td>481.100006</td>\n",
       "      <td>492.899994</td>\n",
       "      <td>416.831024</td>\n",
       "      <td>1537600</td>\n",
       "    </tr>\n",
       "    <tr>\n",
       "      <th>2006-01-04</th>\n",
       "      <td>488.600006</td>\n",
       "      <td>491.000000</td>\n",
       "      <td>483.500000</td>\n",
       "      <td>483.799988</td>\n",
       "      <td>409.135406</td>\n",
       "      <td>1870900</td>\n",
       "    </tr>\n",
       "    <tr>\n",
       "      <th>2006-01-05</th>\n",
       "      <td>484.399994</td>\n",
       "      <td>487.799988</td>\n",
       "      <td>484.000000</td>\n",
       "      <td>486.200012</td>\n",
       "      <td>411.165100</td>\n",
       "      <td>1143100</td>\n",
       "    </tr>\n",
       "    <tr>\n",
       "      <th>2006-01-06</th>\n",
       "      <td>488.799988</td>\n",
       "      <td>489.000000</td>\n",
       "      <td>482.000000</td>\n",
       "      <td>486.200012</td>\n",
       "      <td>411.165100</td>\n",
       "      <td>1370200</td>\n",
       "    </tr>\n",
       "    <tr>\n",
       "      <th>2006-01-09</th>\n",
       "      <td>486.000000</td>\n",
       "      <td>487.399994</td>\n",
       "      <td>483.000000</td>\n",
       "      <td>483.899994</td>\n",
       "      <td>409.220001</td>\n",
       "      <td>1680700</td>\n",
       "    </tr>\n",
       "  </tbody>\n",
       "</table>\n",
       "</div>"
      ],
      "text/plain": [
       "                  Open        High         Low       Close   Adj Close  \\\n",
       "Date                                                                     \n",
       "2006-01-03  490.000000  493.799988  481.100006  492.899994  416.831024   \n",
       "2006-01-04  488.600006  491.000000  483.500000  483.799988  409.135406   \n",
       "2006-01-05  484.399994  487.799988  484.000000  486.200012  411.165100   \n",
       "2006-01-06  488.799988  489.000000  482.000000  486.200012  411.165100   \n",
       "2006-01-09  486.000000  487.399994  483.000000  483.899994  409.220001   \n",
       "\n",
       "             Volume  \n",
       "Date                 \n",
       "2006-01-03  1537600  \n",
       "2006-01-04  1870900  \n",
       "2006-01-05  1143100  \n",
       "2006-01-06  1370200  \n",
       "2006-01-09  1680700  "
      ]
     },
     "execution_count": 46,
     "metadata": {},
     "output_type": "execute_result"
    }
   ],
   "source": [
    "C = data.DataReader('C', 'yahoo', start, end)\n",
    "C.head()"
   ]
  },
  {
   "cell_type": "code",
   "execution_count": 148,
   "metadata": {},
   "outputs": [
    {
     "data": {
      "text/html": [
       "<div>\n",
       "<style>\n",
       "    .dataframe thead tr:only-child th {\n",
       "        text-align: right;\n",
       "    }\n",
       "\n",
       "    .dataframe thead th {\n",
       "        text-align: left;\n",
       "    }\n",
       "\n",
       "    .dataframe tbody tr th {\n",
       "        vertical-align: top;\n",
       "    }\n",
       "</style>\n",
       "<table border=\"1\" class=\"dataframe\">\n",
       "  <thead>\n",
       "    <tr style=\"text-align: right;\">\n",
       "      <th></th>\n",
       "      <th>Open</th>\n",
       "      <th>High</th>\n",
       "      <th>Low</th>\n",
       "      <th>Close</th>\n",
       "      <th>Adj Close</th>\n",
       "      <th>Volume</th>\n",
       "    </tr>\n",
       "    <tr>\n",
       "      <th>Date</th>\n",
       "      <th></th>\n",
       "      <th></th>\n",
       "      <th></th>\n",
       "      <th></th>\n",
       "      <th></th>\n",
       "      <th></th>\n",
       "    </tr>\n",
       "  </thead>\n",
       "  <tbody>\n",
       "    <tr>\n",
       "      <th>2006-01-03</th>\n",
       "      <td>126.699997</td>\n",
       "      <td>129.440002</td>\n",
       "      <td>124.230003</td>\n",
       "      <td>128.869995</td>\n",
       "      <td>112.337547</td>\n",
       "      <td>6188700</td>\n",
       "    </tr>\n",
       "    <tr>\n",
       "      <th>2006-01-04</th>\n",
       "      <td>127.349998</td>\n",
       "      <td>128.910004</td>\n",
       "      <td>126.379997</td>\n",
       "      <td>127.089996</td>\n",
       "      <td>110.785889</td>\n",
       "      <td>4861600</td>\n",
       "    </tr>\n",
       "    <tr>\n",
       "      <th>2006-01-05</th>\n",
       "      <td>126.000000</td>\n",
       "      <td>127.320000</td>\n",
       "      <td>125.610001</td>\n",
       "      <td>127.040001</td>\n",
       "      <td>110.742340</td>\n",
       "      <td>3717400</td>\n",
       "    </tr>\n",
       "    <tr>\n",
       "      <th>2006-01-06</th>\n",
       "      <td>127.290001</td>\n",
       "      <td>129.250000</td>\n",
       "      <td>127.290001</td>\n",
       "      <td>128.839996</td>\n",
       "      <td>112.311401</td>\n",
       "      <td>4319600</td>\n",
       "    </tr>\n",
       "    <tr>\n",
       "      <th>2006-01-09</th>\n",
       "      <td>128.500000</td>\n",
       "      <td>130.619995</td>\n",
       "      <td>128.000000</td>\n",
       "      <td>130.389999</td>\n",
       "      <td>113.662605</td>\n",
       "      <td>4723500</td>\n",
       "    </tr>\n",
       "  </tbody>\n",
       "</table>\n",
       "</div>"
      ],
      "text/plain": [
       "                  Open        High         Low       Close   Adj Close  \\\n",
       "Date                                                                     \n",
       "2006-01-03  126.699997  129.440002  124.230003  128.869995  112.337547   \n",
       "2006-01-04  127.349998  128.910004  126.379997  127.089996  110.785889   \n",
       "2006-01-05  126.000000  127.320000  125.610001  127.040001  110.742340   \n",
       "2006-01-06  127.290001  129.250000  127.290001  128.839996  112.311401   \n",
       "2006-01-09  128.500000  130.619995  128.000000  130.389999  113.662605   \n",
       "\n",
       "             Volume  \n",
       "Date                 \n",
       "2006-01-03  6188700  \n",
       "2006-01-04  4861600  \n",
       "2006-01-05  3717400  \n",
       "2006-01-06  4319600  \n",
       "2006-01-09  4723500  "
      ]
     },
     "execution_count": 148,
     "metadata": {},
     "output_type": "execute_result"
    }
   ],
   "source": [
    "GS = data.DataReader('GS', 'yahoo', start, end)\n",
    "GS.head()"
   ]
  },
  {
   "cell_type": "code",
   "execution_count": 48,
   "metadata": {},
   "outputs": [
    {
     "data": {
      "text/html": [
       "<div>\n",
       "<style>\n",
       "    .dataframe thead tr:only-child th {\n",
       "        text-align: right;\n",
       "    }\n",
       "\n",
       "    .dataframe thead th {\n",
       "        text-align: left;\n",
       "    }\n",
       "\n",
       "    .dataframe tbody tr th {\n",
       "        vertical-align: top;\n",
       "    }\n",
       "</style>\n",
       "<table border=\"1\" class=\"dataframe\">\n",
       "  <thead>\n",
       "    <tr style=\"text-align: right;\">\n",
       "      <th></th>\n",
       "      <th>Open</th>\n",
       "      <th>High</th>\n",
       "      <th>Low</th>\n",
       "      <th>Close</th>\n",
       "      <th>Adj Close</th>\n",
       "      <th>Volume</th>\n",
       "    </tr>\n",
       "    <tr>\n",
       "      <th>Date</th>\n",
       "      <th></th>\n",
       "      <th></th>\n",
       "      <th></th>\n",
       "      <th></th>\n",
       "      <th></th>\n",
       "      <th></th>\n",
       "    </tr>\n",
       "  </thead>\n",
       "  <tbody>\n",
       "    <tr>\n",
       "      <th>2006-01-03</th>\n",
       "      <td>39.830002</td>\n",
       "      <td>40.360001</td>\n",
       "      <td>39.299999</td>\n",
       "      <td>40.189999</td>\n",
       "      <td>29.873466</td>\n",
       "      <td>12838600</td>\n",
       "    </tr>\n",
       "    <tr>\n",
       "      <th>2006-01-04</th>\n",
       "      <td>39.779999</td>\n",
       "      <td>40.139999</td>\n",
       "      <td>39.419998</td>\n",
       "      <td>39.619999</td>\n",
       "      <td>29.701059</td>\n",
       "      <td>13491500</td>\n",
       "    </tr>\n",
       "    <tr>\n",
       "      <th>2006-01-05</th>\n",
       "      <td>39.610001</td>\n",
       "      <td>39.810001</td>\n",
       "      <td>39.500000</td>\n",
       "      <td>39.740002</td>\n",
       "      <td>29.791012</td>\n",
       "      <td>8109400</td>\n",
       "    </tr>\n",
       "    <tr>\n",
       "      <th>2006-01-06</th>\n",
       "      <td>39.919998</td>\n",
       "      <td>40.240002</td>\n",
       "      <td>39.549999</td>\n",
       "      <td>40.020000</td>\n",
       "      <td>30.000916</td>\n",
       "      <td>7966900</td>\n",
       "    </tr>\n",
       "    <tr>\n",
       "      <th>2006-01-09</th>\n",
       "      <td>39.880001</td>\n",
       "      <td>40.720001</td>\n",
       "      <td>39.880001</td>\n",
       "      <td>40.669998</td>\n",
       "      <td>30.488176</td>\n",
       "      <td>16575200</td>\n",
       "    </tr>\n",
       "  </tbody>\n",
       "</table>\n",
       "</div>"
      ],
      "text/plain": [
       "                 Open       High        Low      Close  Adj Close    Volume\n",
       "Date                                                                       \n",
       "2006-01-03  39.830002  40.360001  39.299999  40.189999  29.873466  12838600\n",
       "2006-01-04  39.779999  40.139999  39.419998  39.619999  29.701059  13491500\n",
       "2006-01-05  39.610001  39.810001  39.500000  39.740002  29.791012   8109400\n",
       "2006-01-06  39.919998  40.240002  39.549999  40.020000  30.000916   7966900\n",
       "2006-01-09  39.880001  40.720001  39.880001  40.669998  30.488176  16575200"
      ]
     },
     "execution_count": 48,
     "metadata": {},
     "output_type": "execute_result"
    }
   ],
   "source": [
    "JPM = data.DataReader('JPM', 'yahoo', start, end)\n",
    "JPM.head()"
   ]
  },
  {
   "cell_type": "code",
   "execution_count": 49,
   "metadata": {},
   "outputs": [
    {
     "data": {
      "text/html": [
       "<div>\n",
       "<style>\n",
       "    .dataframe thead tr:only-child th {\n",
       "        text-align: right;\n",
       "    }\n",
       "\n",
       "    .dataframe thead th {\n",
       "        text-align: left;\n",
       "    }\n",
       "\n",
       "    .dataframe tbody tr th {\n",
       "        vertical-align: top;\n",
       "    }\n",
       "</style>\n",
       "<table border=\"1\" class=\"dataframe\">\n",
       "  <thead>\n",
       "    <tr style=\"text-align: right;\">\n",
       "      <th></th>\n",
       "      <th>Open</th>\n",
       "      <th>High</th>\n",
       "      <th>Low</th>\n",
       "      <th>Close</th>\n",
       "      <th>Adj Close</th>\n",
       "      <th>Volume</th>\n",
       "    </tr>\n",
       "    <tr>\n",
       "      <th>Date</th>\n",
       "      <th></th>\n",
       "      <th></th>\n",
       "      <th></th>\n",
       "      <th></th>\n",
       "      <th></th>\n",
       "      <th></th>\n",
       "    </tr>\n",
       "  </thead>\n",
       "  <tbody>\n",
       "    <tr>\n",
       "      <th>2006-01-03</th>\n",
       "      <td>57.169998</td>\n",
       "      <td>58.490002</td>\n",
       "      <td>56.740002</td>\n",
       "      <td>58.310001</td>\n",
       "      <td>40.259113</td>\n",
       "      <td>5377000</td>\n",
       "    </tr>\n",
       "    <tr>\n",
       "      <th>2006-01-04</th>\n",
       "      <td>58.700001</td>\n",
       "      <td>59.279999</td>\n",
       "      <td>58.349998</td>\n",
       "      <td>58.349998</td>\n",
       "      <td>40.286736</td>\n",
       "      <td>7977800</td>\n",
       "    </tr>\n",
       "    <tr>\n",
       "      <th>2006-01-05</th>\n",
       "      <td>58.549999</td>\n",
       "      <td>58.590000</td>\n",
       "      <td>58.020000</td>\n",
       "      <td>58.509998</td>\n",
       "      <td>40.397205</td>\n",
       "      <td>5778000</td>\n",
       "    </tr>\n",
       "    <tr>\n",
       "      <th>2006-01-06</th>\n",
       "      <td>58.770000</td>\n",
       "      <td>58.849998</td>\n",
       "      <td>58.049999</td>\n",
       "      <td>58.570000</td>\n",
       "      <td>40.438644</td>\n",
       "      <td>6889800</td>\n",
       "    </tr>\n",
       "    <tr>\n",
       "      <th>2006-01-09</th>\n",
       "      <td>58.630001</td>\n",
       "      <td>59.290001</td>\n",
       "      <td>58.619999</td>\n",
       "      <td>59.189999</td>\n",
       "      <td>40.866695</td>\n",
       "      <td>4144500</td>\n",
       "    </tr>\n",
       "  </tbody>\n",
       "</table>\n",
       "</div>"
      ],
      "text/plain": [
       "                 Open       High        Low      Close  Adj Close   Volume\n",
       "Date                                                                      \n",
       "2006-01-03  57.169998  58.490002  56.740002  58.310001  40.259113  5377000\n",
       "2006-01-04  58.700001  59.279999  58.349998  58.349998  40.286736  7977800\n",
       "2006-01-05  58.549999  58.590000  58.020000  58.509998  40.397205  5778000\n",
       "2006-01-06  58.770000  58.849998  58.049999  58.570000  40.438644  6889800\n",
       "2006-01-09  58.630001  59.290001  58.619999  59.189999  40.866695  4144500"
      ]
     },
     "execution_count": 49,
     "metadata": {},
     "output_type": "execute_result"
    }
   ],
   "source": [
    "MS = data.DataReader('MS', 'yahoo', start, end)\n",
    "MS.head()"
   ]
  },
  {
   "cell_type": "code",
   "execution_count": 52,
   "metadata": {},
   "outputs": [
    {
     "data": {
      "text/html": [
       "<div>\n",
       "<style>\n",
       "    .dataframe thead tr:only-child th {\n",
       "        text-align: right;\n",
       "    }\n",
       "\n",
       "    .dataframe thead th {\n",
       "        text-align: left;\n",
       "    }\n",
       "\n",
       "    .dataframe tbody tr th {\n",
       "        vertical-align: top;\n",
       "    }\n",
       "</style>\n",
       "<table border=\"1\" class=\"dataframe\">\n",
       "  <thead>\n",
       "    <tr style=\"text-align: right;\">\n",
       "      <th></th>\n",
       "      <th>Open</th>\n",
       "      <th>High</th>\n",
       "      <th>Low</th>\n",
       "      <th>Close</th>\n",
       "      <th>Adj Close</th>\n",
       "      <th>Volume</th>\n",
       "    </tr>\n",
       "    <tr>\n",
       "      <th>Date</th>\n",
       "      <th></th>\n",
       "      <th></th>\n",
       "      <th></th>\n",
       "      <th></th>\n",
       "      <th></th>\n",
       "      <th></th>\n",
       "    </tr>\n",
       "  </thead>\n",
       "  <tbody>\n",
       "    <tr>\n",
       "      <th>2006-01-03</th>\n",
       "      <td>31.600000</td>\n",
       "      <td>31.975000</td>\n",
       "      <td>31.195000</td>\n",
       "      <td>31.900000</td>\n",
       "      <td>23.238424</td>\n",
       "      <td>11016400</td>\n",
       "    </tr>\n",
       "    <tr>\n",
       "      <th>2006-01-04</th>\n",
       "      <td>31.799999</td>\n",
       "      <td>31.820000</td>\n",
       "      <td>31.365000</td>\n",
       "      <td>31.530001</td>\n",
       "      <td>22.968884</td>\n",
       "      <td>10870000</td>\n",
       "    </tr>\n",
       "    <tr>\n",
       "      <th>2006-01-05</th>\n",
       "      <td>31.500000</td>\n",
       "      <td>31.555000</td>\n",
       "      <td>31.309999</td>\n",
       "      <td>31.495001</td>\n",
       "      <td>22.943392</td>\n",
       "      <td>10158000</td>\n",
       "    </tr>\n",
       "    <tr>\n",
       "      <th>2006-01-06</th>\n",
       "      <td>31.580000</td>\n",
       "      <td>31.775000</td>\n",
       "      <td>31.385000</td>\n",
       "      <td>31.680000</td>\n",
       "      <td>23.078157</td>\n",
       "      <td>8403800</td>\n",
       "    </tr>\n",
       "    <tr>\n",
       "      <th>2006-01-09</th>\n",
       "      <td>31.674999</td>\n",
       "      <td>31.825001</td>\n",
       "      <td>31.555000</td>\n",
       "      <td>31.674999</td>\n",
       "      <td>23.074520</td>\n",
       "      <td>5619600</td>\n",
       "    </tr>\n",
       "  </tbody>\n",
       "</table>\n",
       "</div>"
      ],
      "text/plain": [
       "                 Open       High        Low      Close  Adj Close    Volume\n",
       "Date                                                                       \n",
       "2006-01-03  31.600000  31.975000  31.195000  31.900000  23.238424  11016400\n",
       "2006-01-04  31.799999  31.820000  31.365000  31.530001  22.968884  10870000\n",
       "2006-01-05  31.500000  31.555000  31.309999  31.495001  22.943392  10158000\n",
       "2006-01-06  31.580000  31.775000  31.385000  31.680000  23.078157   8403800\n",
       "2006-01-09  31.674999  31.825001  31.555000  31.674999  23.074520   5619600"
      ]
     },
     "execution_count": 52,
     "metadata": {},
     "output_type": "execute_result"
    }
   ],
   "source": [
    "WFC = data.DataReader('WFC', 'yahoo', start, end)\n",
    "WFC.head()"
   ]
  },
  {
   "cell_type": "markdown",
   "metadata": {},
   "source": [
    "** Create a list of the ticker symbols (as strings) in alphabetical order. Call this list: tickers**"
   ]
  },
  {
   "cell_type": "code",
   "execution_count": 55,
   "metadata": {
    "collapsed": true
   },
   "outputs": [],
   "source": [
    "# BAC, C, GS, JPM, MS, WFC\n",
    "tickers = ['BAC', 'C', 'GS', 'JPM', 'MS', 'WFC']"
   ]
  },
  {
   "cell_type": "markdown",
   "metadata": {},
   "source": [
    "** Use pd.concat to concatenate the bank dataframes together to a single data frame called bank_stocks. Set the keys argument equal to the tickers list. Also pay attention to what axis you concatenate on.**"
   ]
  },
  {
   "cell_type": "code",
   "execution_count": 137,
   "metadata": {},
   "outputs": [
    {
     "data": {
      "text/html": [
       "<div>\n",
       "<style>\n",
       "    .dataframe thead tr:only-child th {\n",
       "        text-align: right;\n",
       "    }\n",
       "\n",
       "    .dataframe thead th {\n",
       "        text-align: left;\n",
       "    }\n",
       "\n",
       "    .dataframe tbody tr th {\n",
       "        vertical-align: top;\n",
       "    }\n",
       "</style>\n",
       "<table border=\"1\" class=\"dataframe\">\n",
       "  <thead>\n",
       "    <tr>\n",
       "      <th>Bank Ticker</th>\n",
       "      <th colspan=\"5\" halign=\"left\">BAC</th>\n",
       "      <th colspan=\"5\" halign=\"left\">C</th>\n",
       "      <th>...</th>\n",
       "      <th colspan=\"5\" halign=\"left\">MS</th>\n",
       "      <th colspan=\"5\" halign=\"left\">WFC</th>\n",
       "    </tr>\n",
       "    <tr>\n",
       "      <th>Stock Info</th>\n",
       "      <th>Open</th>\n",
       "      <th>High</th>\n",
       "      <th>Low</th>\n",
       "      <th>Close</th>\n",
       "      <th>Volume</th>\n",
       "      <th>Open</th>\n",
       "      <th>High</th>\n",
       "      <th>Low</th>\n",
       "      <th>Close</th>\n",
       "      <th>Volume</th>\n",
       "      <th>...</th>\n",
       "      <th>Open</th>\n",
       "      <th>High</th>\n",
       "      <th>Low</th>\n",
       "      <th>Close</th>\n",
       "      <th>Volume</th>\n",
       "      <th>Open</th>\n",
       "      <th>High</th>\n",
       "      <th>Low</th>\n",
       "      <th>Close</th>\n",
       "      <th>Volume</th>\n",
       "    </tr>\n",
       "    <tr>\n",
       "      <th>Date</th>\n",
       "      <th></th>\n",
       "      <th></th>\n",
       "      <th></th>\n",
       "      <th></th>\n",
       "      <th></th>\n",
       "      <th></th>\n",
       "      <th></th>\n",
       "      <th></th>\n",
       "      <th></th>\n",
       "      <th></th>\n",
       "      <th></th>\n",
       "      <th></th>\n",
       "      <th></th>\n",
       "      <th></th>\n",
       "      <th></th>\n",
       "      <th></th>\n",
       "      <th></th>\n",
       "      <th></th>\n",
       "      <th></th>\n",
       "      <th></th>\n",
       "      <th></th>\n",
       "    </tr>\n",
       "  </thead>\n",
       "  <tbody>\n",
       "    <tr>\n",
       "      <th>2006-01-03</th>\n",
       "      <td>46.92</td>\n",
       "      <td>47.18</td>\n",
       "      <td>46.15</td>\n",
       "      <td>47.08</td>\n",
       "      <td>16296700</td>\n",
       "      <td>490.0</td>\n",
       "      <td>493.8</td>\n",
       "      <td>481.1</td>\n",
       "      <td>492.9</td>\n",
       "      <td>1537660</td>\n",
       "      <td>...</td>\n",
       "      <td>57.17</td>\n",
       "      <td>58.49</td>\n",
       "      <td>56.74</td>\n",
       "      <td>58.31</td>\n",
       "      <td>5377000</td>\n",
       "      <td>31.60</td>\n",
       "      <td>31.98</td>\n",
       "      <td>31.20</td>\n",
       "      <td>31.90</td>\n",
       "      <td>11016400</td>\n",
       "    </tr>\n",
       "    <tr>\n",
       "      <th>2006-01-04</th>\n",
       "      <td>47.00</td>\n",
       "      <td>47.24</td>\n",
       "      <td>46.45</td>\n",
       "      <td>46.58</td>\n",
       "      <td>17757900</td>\n",
       "      <td>488.6</td>\n",
       "      <td>491.0</td>\n",
       "      <td>483.5</td>\n",
       "      <td>483.8</td>\n",
       "      <td>1871020</td>\n",
       "      <td>...</td>\n",
       "      <td>58.70</td>\n",
       "      <td>59.28</td>\n",
       "      <td>58.35</td>\n",
       "      <td>58.35</td>\n",
       "      <td>7977800</td>\n",
       "      <td>31.80</td>\n",
       "      <td>31.82</td>\n",
       "      <td>31.36</td>\n",
       "      <td>31.53</td>\n",
       "      <td>10871000</td>\n",
       "    </tr>\n",
       "    <tr>\n",
       "      <th>2006-01-05</th>\n",
       "      <td>46.58</td>\n",
       "      <td>46.83</td>\n",
       "      <td>46.32</td>\n",
       "      <td>46.64</td>\n",
       "      <td>14970900</td>\n",
       "      <td>484.4</td>\n",
       "      <td>487.8</td>\n",
       "      <td>484.0</td>\n",
       "      <td>486.2</td>\n",
       "      <td>1143160</td>\n",
       "      <td>...</td>\n",
       "      <td>58.55</td>\n",
       "      <td>58.59</td>\n",
       "      <td>58.02</td>\n",
       "      <td>58.51</td>\n",
       "      <td>5778000</td>\n",
       "      <td>31.50</td>\n",
       "      <td>31.56</td>\n",
       "      <td>31.31</td>\n",
       "      <td>31.50</td>\n",
       "      <td>10158000</td>\n",
       "    </tr>\n",
       "    <tr>\n",
       "      <th>2006-01-06</th>\n",
       "      <td>46.80</td>\n",
       "      <td>46.91</td>\n",
       "      <td>46.35</td>\n",
       "      <td>46.57</td>\n",
       "      <td>12599800</td>\n",
       "      <td>488.8</td>\n",
       "      <td>489.0</td>\n",
       "      <td>482.0</td>\n",
       "      <td>486.2</td>\n",
       "      <td>1370250</td>\n",
       "      <td>...</td>\n",
       "      <td>58.77</td>\n",
       "      <td>58.85</td>\n",
       "      <td>58.05</td>\n",
       "      <td>58.57</td>\n",
       "      <td>6889800</td>\n",
       "      <td>31.58</td>\n",
       "      <td>31.78</td>\n",
       "      <td>31.38</td>\n",
       "      <td>31.68</td>\n",
       "      <td>8403800</td>\n",
       "    </tr>\n",
       "    <tr>\n",
       "      <th>2006-01-09</th>\n",
       "      <td>46.72</td>\n",
       "      <td>46.97</td>\n",
       "      <td>46.36</td>\n",
       "      <td>46.60</td>\n",
       "      <td>15620000</td>\n",
       "      <td>486.0</td>\n",
       "      <td>487.4</td>\n",
       "      <td>483.0</td>\n",
       "      <td>483.9</td>\n",
       "      <td>1680740</td>\n",
       "      <td>...</td>\n",
       "      <td>58.63</td>\n",
       "      <td>59.29</td>\n",
       "      <td>58.62</td>\n",
       "      <td>59.19</td>\n",
       "      <td>4144500</td>\n",
       "      <td>31.68</td>\n",
       "      <td>31.82</td>\n",
       "      <td>31.56</td>\n",
       "      <td>31.68</td>\n",
       "      <td>5619600</td>\n",
       "    </tr>\n",
       "  </tbody>\n",
       "</table>\n",
       "<p>5 rows × 30 columns</p>\n",
       "</div>"
      ],
      "text/plain": [
       "Bank Ticker    BAC                                     C                       \\\n",
       "Stock Info    Open   High    Low  Close    Volume   Open   High    Low  Close   \n",
       "Date                                                                            \n",
       "2006-01-03   46.92  47.18  46.15  47.08  16296700  490.0  493.8  481.1  492.9   \n",
       "2006-01-04   47.00  47.24  46.45  46.58  17757900  488.6  491.0  483.5  483.8   \n",
       "2006-01-05   46.58  46.83  46.32  46.64  14970900  484.4  487.8  484.0  486.2   \n",
       "2006-01-06   46.80  46.91  46.35  46.57  12599800  488.8  489.0  482.0  486.2   \n",
       "2006-01-09   46.72  46.97  46.36  46.60  15620000  486.0  487.4  483.0  483.9   \n",
       "\n",
       "Bank Ticker             ...        MS                                  WFC  \\\n",
       "Stock Info    Volume    ...      Open   High    Low  Close   Volume   Open   \n",
       "Date                    ...                                                  \n",
       "2006-01-03   1537660    ...     57.17  58.49  56.74  58.31  5377000  31.60   \n",
       "2006-01-04   1871020    ...     58.70  59.28  58.35  58.35  7977800  31.80   \n",
       "2006-01-05   1143160    ...     58.55  58.59  58.02  58.51  5778000  31.50   \n",
       "2006-01-06   1370250    ...     58.77  58.85  58.05  58.57  6889800  31.58   \n",
       "2006-01-09   1680740    ...     58.63  59.29  58.62  59.19  4144500  31.68   \n",
       "\n",
       "Bank Ticker                                 \n",
       "Stock Info    High    Low  Close    Volume  \n",
       "Date                                        \n",
       "2006-01-03   31.98  31.20  31.90  11016400  \n",
       "2006-01-04   31.82  31.36  31.53  10871000  \n",
       "2006-01-05   31.56  31.31  31.50  10158000  \n",
       "2006-01-06   31.78  31.38  31.68   8403800  \n",
       "2006-01-09   31.82  31.56  31.68   5619600  \n",
       "\n",
       "[5 rows x 30 columns]"
      ]
     },
     "execution_count": 137,
     "metadata": {},
     "output_type": "execute_result"
    }
   ],
   "source": [
    "# I'm having issues with my dataset, so I used the one provided by the instructor\n",
    "# bank_stocks = pd.concat([BAC, C, GS, JPM, MS, WFC], axis=1, keys=tickers)\n",
    "bank_stocks = pd.read_pickle('all_banks')\n",
    "bank_stocks.head()"
   ]
  },
  {
   "cell_type": "markdown",
   "metadata": {},
   "source": [
    "** Set the column name levels (this is filled out for you):**"
   ]
  },
  {
   "cell_type": "code",
   "execution_count": 138,
   "metadata": {},
   "outputs": [
    {
     "data": {
      "text/html": [
       "<div>\n",
       "<style>\n",
       "    .dataframe thead tr:only-child th {\n",
       "        text-align: right;\n",
       "    }\n",
       "\n",
       "    .dataframe thead th {\n",
       "        text-align: left;\n",
       "    }\n",
       "\n",
       "    .dataframe tbody tr th {\n",
       "        vertical-align: top;\n",
       "    }\n",
       "</style>\n",
       "<table border=\"1\" class=\"dataframe\">\n",
       "  <thead>\n",
       "    <tr>\n",
       "      <th>Bank Ticker</th>\n",
       "      <th colspan=\"5\" halign=\"left\">BAC</th>\n",
       "      <th colspan=\"5\" halign=\"left\">C</th>\n",
       "      <th>...</th>\n",
       "      <th colspan=\"5\" halign=\"left\">MS</th>\n",
       "      <th colspan=\"5\" halign=\"left\">WFC</th>\n",
       "    </tr>\n",
       "    <tr>\n",
       "      <th>Stock Info</th>\n",
       "      <th>Open</th>\n",
       "      <th>High</th>\n",
       "      <th>Low</th>\n",
       "      <th>Close</th>\n",
       "      <th>Volume</th>\n",
       "      <th>Open</th>\n",
       "      <th>High</th>\n",
       "      <th>Low</th>\n",
       "      <th>Close</th>\n",
       "      <th>Volume</th>\n",
       "      <th>...</th>\n",
       "      <th>Open</th>\n",
       "      <th>High</th>\n",
       "      <th>Low</th>\n",
       "      <th>Close</th>\n",
       "      <th>Volume</th>\n",
       "      <th>Open</th>\n",
       "      <th>High</th>\n",
       "      <th>Low</th>\n",
       "      <th>Close</th>\n",
       "      <th>Volume</th>\n",
       "    </tr>\n",
       "    <tr>\n",
       "      <th>Date</th>\n",
       "      <th></th>\n",
       "      <th></th>\n",
       "      <th></th>\n",
       "      <th></th>\n",
       "      <th></th>\n",
       "      <th></th>\n",
       "      <th></th>\n",
       "      <th></th>\n",
       "      <th></th>\n",
       "      <th></th>\n",
       "      <th></th>\n",
       "      <th></th>\n",
       "      <th></th>\n",
       "      <th></th>\n",
       "      <th></th>\n",
       "      <th></th>\n",
       "      <th></th>\n",
       "      <th></th>\n",
       "      <th></th>\n",
       "      <th></th>\n",
       "      <th></th>\n",
       "    </tr>\n",
       "  </thead>\n",
       "  <tbody>\n",
       "    <tr>\n",
       "      <th>2006-01-03</th>\n",
       "      <td>46.92</td>\n",
       "      <td>47.18</td>\n",
       "      <td>46.15</td>\n",
       "      <td>47.08</td>\n",
       "      <td>16296700</td>\n",
       "      <td>490.0</td>\n",
       "      <td>493.8</td>\n",
       "      <td>481.1</td>\n",
       "      <td>492.9</td>\n",
       "      <td>1537660</td>\n",
       "      <td>...</td>\n",
       "      <td>57.17</td>\n",
       "      <td>58.49</td>\n",
       "      <td>56.74</td>\n",
       "      <td>58.31</td>\n",
       "      <td>5377000</td>\n",
       "      <td>31.60</td>\n",
       "      <td>31.98</td>\n",
       "      <td>31.20</td>\n",
       "      <td>31.90</td>\n",
       "      <td>11016400</td>\n",
       "    </tr>\n",
       "    <tr>\n",
       "      <th>2006-01-04</th>\n",
       "      <td>47.00</td>\n",
       "      <td>47.24</td>\n",
       "      <td>46.45</td>\n",
       "      <td>46.58</td>\n",
       "      <td>17757900</td>\n",
       "      <td>488.6</td>\n",
       "      <td>491.0</td>\n",
       "      <td>483.5</td>\n",
       "      <td>483.8</td>\n",
       "      <td>1871020</td>\n",
       "      <td>...</td>\n",
       "      <td>58.70</td>\n",
       "      <td>59.28</td>\n",
       "      <td>58.35</td>\n",
       "      <td>58.35</td>\n",
       "      <td>7977800</td>\n",
       "      <td>31.80</td>\n",
       "      <td>31.82</td>\n",
       "      <td>31.36</td>\n",
       "      <td>31.53</td>\n",
       "      <td>10871000</td>\n",
       "    </tr>\n",
       "    <tr>\n",
       "      <th>2006-01-05</th>\n",
       "      <td>46.58</td>\n",
       "      <td>46.83</td>\n",
       "      <td>46.32</td>\n",
       "      <td>46.64</td>\n",
       "      <td>14970900</td>\n",
       "      <td>484.4</td>\n",
       "      <td>487.8</td>\n",
       "      <td>484.0</td>\n",
       "      <td>486.2</td>\n",
       "      <td>1143160</td>\n",
       "      <td>...</td>\n",
       "      <td>58.55</td>\n",
       "      <td>58.59</td>\n",
       "      <td>58.02</td>\n",
       "      <td>58.51</td>\n",
       "      <td>5778000</td>\n",
       "      <td>31.50</td>\n",
       "      <td>31.56</td>\n",
       "      <td>31.31</td>\n",
       "      <td>31.50</td>\n",
       "      <td>10158000</td>\n",
       "    </tr>\n",
       "    <tr>\n",
       "      <th>2006-01-06</th>\n",
       "      <td>46.80</td>\n",
       "      <td>46.91</td>\n",
       "      <td>46.35</td>\n",
       "      <td>46.57</td>\n",
       "      <td>12599800</td>\n",
       "      <td>488.8</td>\n",
       "      <td>489.0</td>\n",
       "      <td>482.0</td>\n",
       "      <td>486.2</td>\n",
       "      <td>1370250</td>\n",
       "      <td>...</td>\n",
       "      <td>58.77</td>\n",
       "      <td>58.85</td>\n",
       "      <td>58.05</td>\n",
       "      <td>58.57</td>\n",
       "      <td>6889800</td>\n",
       "      <td>31.58</td>\n",
       "      <td>31.78</td>\n",
       "      <td>31.38</td>\n",
       "      <td>31.68</td>\n",
       "      <td>8403800</td>\n",
       "    </tr>\n",
       "    <tr>\n",
       "      <th>2006-01-09</th>\n",
       "      <td>46.72</td>\n",
       "      <td>46.97</td>\n",
       "      <td>46.36</td>\n",
       "      <td>46.60</td>\n",
       "      <td>15620000</td>\n",
       "      <td>486.0</td>\n",
       "      <td>487.4</td>\n",
       "      <td>483.0</td>\n",
       "      <td>483.9</td>\n",
       "      <td>1680740</td>\n",
       "      <td>...</td>\n",
       "      <td>58.63</td>\n",
       "      <td>59.29</td>\n",
       "      <td>58.62</td>\n",
       "      <td>59.19</td>\n",
       "      <td>4144500</td>\n",
       "      <td>31.68</td>\n",
       "      <td>31.82</td>\n",
       "      <td>31.56</td>\n",
       "      <td>31.68</td>\n",
       "      <td>5619600</td>\n",
       "    </tr>\n",
       "  </tbody>\n",
       "</table>\n",
       "<p>5 rows × 30 columns</p>\n",
       "</div>"
      ],
      "text/plain": [
       "Bank Ticker    BAC                                     C                       \\\n",
       "Stock Info    Open   High    Low  Close    Volume   Open   High    Low  Close   \n",
       "Date                                                                            \n",
       "2006-01-03   46.92  47.18  46.15  47.08  16296700  490.0  493.8  481.1  492.9   \n",
       "2006-01-04   47.00  47.24  46.45  46.58  17757900  488.6  491.0  483.5  483.8   \n",
       "2006-01-05   46.58  46.83  46.32  46.64  14970900  484.4  487.8  484.0  486.2   \n",
       "2006-01-06   46.80  46.91  46.35  46.57  12599800  488.8  489.0  482.0  486.2   \n",
       "2006-01-09   46.72  46.97  46.36  46.60  15620000  486.0  487.4  483.0  483.9   \n",
       "\n",
       "Bank Ticker             ...        MS                                  WFC  \\\n",
       "Stock Info    Volume    ...      Open   High    Low  Close   Volume   Open   \n",
       "Date                    ...                                                  \n",
       "2006-01-03   1537660    ...     57.17  58.49  56.74  58.31  5377000  31.60   \n",
       "2006-01-04   1871020    ...     58.70  59.28  58.35  58.35  7977800  31.80   \n",
       "2006-01-05   1143160    ...     58.55  58.59  58.02  58.51  5778000  31.50   \n",
       "2006-01-06   1370250    ...     58.77  58.85  58.05  58.57  6889800  31.58   \n",
       "2006-01-09   1680740    ...     58.63  59.29  58.62  59.19  4144500  31.68   \n",
       "\n",
       "Bank Ticker                                 \n",
       "Stock Info    High    Low  Close    Volume  \n",
       "Date                                        \n",
       "2006-01-03   31.98  31.20  31.90  11016400  \n",
       "2006-01-04   31.82  31.36  31.53  10871000  \n",
       "2006-01-05   31.56  31.31  31.50  10158000  \n",
       "2006-01-06   31.78  31.38  31.68   8403800  \n",
       "2006-01-09   31.82  31.56  31.68   5619600  \n",
       "\n",
       "[5 rows x 30 columns]"
      ]
     },
     "execution_count": 138,
     "metadata": {},
     "output_type": "execute_result"
    }
   ],
   "source": [
    "bank_stocks.columns.names = ['Bank Ticker','Stock Info']\n",
    "bank_stocks.head()"
   ]
  },
  {
   "cell_type": "markdown",
   "metadata": {},
   "source": [
    "** Check the head of the bank_stocks dataframe.**"
   ]
  },
  {
   "cell_type": "code",
   "execution_count": 139,
   "metadata": {},
   "outputs": [
    {
     "data": {
      "text/html": [
       "<div>\n",
       "<style>\n",
       "    .dataframe thead tr:only-child th {\n",
       "        text-align: right;\n",
       "    }\n",
       "\n",
       "    .dataframe thead th {\n",
       "        text-align: left;\n",
       "    }\n",
       "\n",
       "    .dataframe tbody tr th {\n",
       "        vertical-align: top;\n",
       "    }\n",
       "</style>\n",
       "<table border=\"1\" class=\"dataframe\">\n",
       "  <thead>\n",
       "    <tr>\n",
       "      <th>Bank Ticker</th>\n",
       "      <th colspan=\"5\" halign=\"left\">BAC</th>\n",
       "      <th colspan=\"5\" halign=\"left\">C</th>\n",
       "      <th>...</th>\n",
       "      <th colspan=\"5\" halign=\"left\">MS</th>\n",
       "      <th colspan=\"5\" halign=\"left\">WFC</th>\n",
       "    </tr>\n",
       "    <tr>\n",
       "      <th>Stock Info</th>\n",
       "      <th>Open</th>\n",
       "      <th>High</th>\n",
       "      <th>Low</th>\n",
       "      <th>Close</th>\n",
       "      <th>Volume</th>\n",
       "      <th>Open</th>\n",
       "      <th>High</th>\n",
       "      <th>Low</th>\n",
       "      <th>Close</th>\n",
       "      <th>Volume</th>\n",
       "      <th>...</th>\n",
       "      <th>Open</th>\n",
       "      <th>High</th>\n",
       "      <th>Low</th>\n",
       "      <th>Close</th>\n",
       "      <th>Volume</th>\n",
       "      <th>Open</th>\n",
       "      <th>High</th>\n",
       "      <th>Low</th>\n",
       "      <th>Close</th>\n",
       "      <th>Volume</th>\n",
       "    </tr>\n",
       "    <tr>\n",
       "      <th>Date</th>\n",
       "      <th></th>\n",
       "      <th></th>\n",
       "      <th></th>\n",
       "      <th></th>\n",
       "      <th></th>\n",
       "      <th></th>\n",
       "      <th></th>\n",
       "      <th></th>\n",
       "      <th></th>\n",
       "      <th></th>\n",
       "      <th></th>\n",
       "      <th></th>\n",
       "      <th></th>\n",
       "      <th></th>\n",
       "      <th></th>\n",
       "      <th></th>\n",
       "      <th></th>\n",
       "      <th></th>\n",
       "      <th></th>\n",
       "      <th></th>\n",
       "      <th></th>\n",
       "    </tr>\n",
       "  </thead>\n",
       "  <tbody>\n",
       "    <tr>\n",
       "      <th>2006-01-03</th>\n",
       "      <td>46.92</td>\n",
       "      <td>47.18</td>\n",
       "      <td>46.15</td>\n",
       "      <td>47.08</td>\n",
       "      <td>16296700</td>\n",
       "      <td>490.0</td>\n",
       "      <td>493.8</td>\n",
       "      <td>481.1</td>\n",
       "      <td>492.9</td>\n",
       "      <td>1537660</td>\n",
       "      <td>...</td>\n",
       "      <td>57.17</td>\n",
       "      <td>58.49</td>\n",
       "      <td>56.74</td>\n",
       "      <td>58.31</td>\n",
       "      <td>5377000</td>\n",
       "      <td>31.60</td>\n",
       "      <td>31.98</td>\n",
       "      <td>31.20</td>\n",
       "      <td>31.90</td>\n",
       "      <td>11016400</td>\n",
       "    </tr>\n",
       "    <tr>\n",
       "      <th>2006-01-04</th>\n",
       "      <td>47.00</td>\n",
       "      <td>47.24</td>\n",
       "      <td>46.45</td>\n",
       "      <td>46.58</td>\n",
       "      <td>17757900</td>\n",
       "      <td>488.6</td>\n",
       "      <td>491.0</td>\n",
       "      <td>483.5</td>\n",
       "      <td>483.8</td>\n",
       "      <td>1871020</td>\n",
       "      <td>...</td>\n",
       "      <td>58.70</td>\n",
       "      <td>59.28</td>\n",
       "      <td>58.35</td>\n",
       "      <td>58.35</td>\n",
       "      <td>7977800</td>\n",
       "      <td>31.80</td>\n",
       "      <td>31.82</td>\n",
       "      <td>31.36</td>\n",
       "      <td>31.53</td>\n",
       "      <td>10871000</td>\n",
       "    </tr>\n",
       "    <tr>\n",
       "      <th>2006-01-05</th>\n",
       "      <td>46.58</td>\n",
       "      <td>46.83</td>\n",
       "      <td>46.32</td>\n",
       "      <td>46.64</td>\n",
       "      <td>14970900</td>\n",
       "      <td>484.4</td>\n",
       "      <td>487.8</td>\n",
       "      <td>484.0</td>\n",
       "      <td>486.2</td>\n",
       "      <td>1143160</td>\n",
       "      <td>...</td>\n",
       "      <td>58.55</td>\n",
       "      <td>58.59</td>\n",
       "      <td>58.02</td>\n",
       "      <td>58.51</td>\n",
       "      <td>5778000</td>\n",
       "      <td>31.50</td>\n",
       "      <td>31.56</td>\n",
       "      <td>31.31</td>\n",
       "      <td>31.50</td>\n",
       "      <td>10158000</td>\n",
       "    </tr>\n",
       "    <tr>\n",
       "      <th>2006-01-06</th>\n",
       "      <td>46.80</td>\n",
       "      <td>46.91</td>\n",
       "      <td>46.35</td>\n",
       "      <td>46.57</td>\n",
       "      <td>12599800</td>\n",
       "      <td>488.8</td>\n",
       "      <td>489.0</td>\n",
       "      <td>482.0</td>\n",
       "      <td>486.2</td>\n",
       "      <td>1370250</td>\n",
       "      <td>...</td>\n",
       "      <td>58.77</td>\n",
       "      <td>58.85</td>\n",
       "      <td>58.05</td>\n",
       "      <td>58.57</td>\n",
       "      <td>6889800</td>\n",
       "      <td>31.58</td>\n",
       "      <td>31.78</td>\n",
       "      <td>31.38</td>\n",
       "      <td>31.68</td>\n",
       "      <td>8403800</td>\n",
       "    </tr>\n",
       "    <tr>\n",
       "      <th>2006-01-09</th>\n",
       "      <td>46.72</td>\n",
       "      <td>46.97</td>\n",
       "      <td>46.36</td>\n",
       "      <td>46.60</td>\n",
       "      <td>15620000</td>\n",
       "      <td>486.0</td>\n",
       "      <td>487.4</td>\n",
       "      <td>483.0</td>\n",
       "      <td>483.9</td>\n",
       "      <td>1680740</td>\n",
       "      <td>...</td>\n",
       "      <td>58.63</td>\n",
       "      <td>59.29</td>\n",
       "      <td>58.62</td>\n",
       "      <td>59.19</td>\n",
       "      <td>4144500</td>\n",
       "      <td>31.68</td>\n",
       "      <td>31.82</td>\n",
       "      <td>31.56</td>\n",
       "      <td>31.68</td>\n",
       "      <td>5619600</td>\n",
       "    </tr>\n",
       "  </tbody>\n",
       "</table>\n",
       "<p>5 rows × 30 columns</p>\n",
       "</div>"
      ],
      "text/plain": [
       "Bank Ticker    BAC                                     C                       \\\n",
       "Stock Info    Open   High    Low  Close    Volume   Open   High    Low  Close   \n",
       "Date                                                                            \n",
       "2006-01-03   46.92  47.18  46.15  47.08  16296700  490.0  493.8  481.1  492.9   \n",
       "2006-01-04   47.00  47.24  46.45  46.58  17757900  488.6  491.0  483.5  483.8   \n",
       "2006-01-05   46.58  46.83  46.32  46.64  14970900  484.4  487.8  484.0  486.2   \n",
       "2006-01-06   46.80  46.91  46.35  46.57  12599800  488.8  489.0  482.0  486.2   \n",
       "2006-01-09   46.72  46.97  46.36  46.60  15620000  486.0  487.4  483.0  483.9   \n",
       "\n",
       "Bank Ticker             ...        MS                                  WFC  \\\n",
       "Stock Info    Volume    ...      Open   High    Low  Close   Volume   Open   \n",
       "Date                    ...                                                  \n",
       "2006-01-03   1537660    ...     57.17  58.49  56.74  58.31  5377000  31.60   \n",
       "2006-01-04   1871020    ...     58.70  59.28  58.35  58.35  7977800  31.80   \n",
       "2006-01-05   1143160    ...     58.55  58.59  58.02  58.51  5778000  31.50   \n",
       "2006-01-06   1370250    ...     58.77  58.85  58.05  58.57  6889800  31.58   \n",
       "2006-01-09   1680740    ...     58.63  59.29  58.62  59.19  4144500  31.68   \n",
       "\n",
       "Bank Ticker                                 \n",
       "Stock Info    High    Low  Close    Volume  \n",
       "Date                                        \n",
       "2006-01-03   31.98  31.20  31.90  11016400  \n",
       "2006-01-04   31.82  31.36  31.53  10871000  \n",
       "2006-01-05   31.56  31.31  31.50  10158000  \n",
       "2006-01-06   31.78  31.38  31.68   8403800  \n",
       "2006-01-09   31.82  31.56  31.68   5619600  \n",
       "\n",
       "[5 rows x 30 columns]"
      ]
     },
     "execution_count": 139,
     "metadata": {},
     "output_type": "execute_result"
    }
   ],
   "source": [
    "bank_stocks.head()"
   ]
  },
  {
   "cell_type": "markdown",
   "metadata": {},
   "source": [
    "# EDA\n",
    "\n",
    "Let's explore the data a bit! Before continuing, I encourage you to check out the documentation on [Multi-Level Indexing](http://pandas.pydata.org/pandas-docs/stable/advanced.html) and [Using .xs](http://pandas.pydata.org/pandas-docs/stable/generated/pandas.DataFrame.xs.html).\n",
    "Reference the solutions if you can not figure out how to use .xs(), since that will be a major part of this project.\n",
    "\n",
    "** What is the max Close price for each bank's stock throughout the time period?**"
   ]
  },
  {
   "cell_type": "code",
   "execution_count": 140,
   "metadata": {},
   "outputs": [
    {
     "data": {
      "text/plain": [
       "Bank Ticker\n",
       "BAC     54.90\n",
       "C      564.10\n",
       "GS     247.92\n",
       "JPM     70.08\n",
       "MS      89.30\n",
       "WFC     58.52\n",
       "dtype: float64"
      ]
     },
     "execution_count": 140,
     "metadata": {},
     "output_type": "execute_result"
    }
   ],
   "source": [
    "bank_stocks[tickers].xs('Close', level='Stock Info', axis=1).max()"
   ]
  },
  {
   "cell_type": "markdown",
   "metadata": {},
   "source": [
    "** Create a new empty DataFrame called returns. This dataframe will contain the returns for each bank's stock. returns are typically defined by:**\n",
    "\n",
    "$$r_t = \\frac{p_t - p_{t-1}}{p_{t-1}} = \\frac{p_t}{p_{t-1}} - 1$$"
   ]
  },
  {
   "cell_type": "code",
   "execution_count": 141,
   "metadata": {
    "collapsed": true
   },
   "outputs": [],
   "source": [
    "# returns = pd.DataFrame(columns=['BAC Return', 'C Return', 'GS Return', 'JPM Return', 'MS Return', 'WFC Return'])\n",
    "returns = pd.DataFrame()"
   ]
  },
  {
   "cell_type": "code",
   "execution_count": 142,
   "metadata": {},
   "outputs": [
    {
     "data": {
      "text/html": [
       "<div>\n",
       "<style>\n",
       "    .dataframe thead tr:only-child th {\n",
       "        text-align: right;\n",
       "    }\n",
       "\n",
       "    .dataframe thead th {\n",
       "        text-align: left;\n",
       "    }\n",
       "\n",
       "    .dataframe tbody tr th {\n",
       "        vertical-align: top;\n",
       "    }\n",
       "</style>\n",
       "<table border=\"1\" class=\"dataframe\">\n",
       "  <thead>\n",
       "    <tr style=\"text-align: right;\">\n",
       "      <th></th>\n",
       "    </tr>\n",
       "  </thead>\n",
       "  <tbody>\n",
       "  </tbody>\n",
       "</table>\n",
       "</div>"
      ],
      "text/plain": [
       "Empty DataFrame\n",
       "Columns: []\n",
       "Index: []"
      ]
     },
     "execution_count": 142,
     "metadata": {},
     "output_type": "execute_result"
    }
   ],
   "source": [
    "returns.head()"
   ]
  },
  {
   "cell_type": "markdown",
   "metadata": {},
   "source": [
    "** We can use pandas pct_change() method on the Close column to create a column representing this return value. Create a for loop that goes and for each Bank Stock Ticker creates this returns column and set's it as a column in the returns DataFrame.**"
   ]
  },
  {
   "cell_type": "code",
   "execution_count": 143,
   "metadata": {},
   "outputs": [
    {
     "data": {
      "text/html": [
       "<div>\n",
       "<style>\n",
       "    .dataframe thead tr:only-child th {\n",
       "        text-align: right;\n",
       "    }\n",
       "\n",
       "    .dataframe thead th {\n",
       "        text-align: left;\n",
       "    }\n",
       "\n",
       "    .dataframe tbody tr th {\n",
       "        vertical-align: top;\n",
       "    }\n",
       "</style>\n",
       "<table border=\"1\" class=\"dataframe\">\n",
       "  <thead>\n",
       "    <tr style=\"text-align: right;\">\n",
       "      <th>Bank Ticker</th>\n",
       "      <th>BAC</th>\n",
       "      <th>C</th>\n",
       "      <th>GS</th>\n",
       "      <th>JPM</th>\n",
       "      <th>MS</th>\n",
       "      <th>WFC</th>\n",
       "    </tr>\n",
       "    <tr>\n",
       "      <th>Date</th>\n",
       "      <th></th>\n",
       "      <th></th>\n",
       "      <th></th>\n",
       "      <th></th>\n",
       "      <th></th>\n",
       "      <th></th>\n",
       "    </tr>\n",
       "  </thead>\n",
       "  <tbody>\n",
       "    <tr>\n",
       "      <th>2006-01-03</th>\n",
       "      <td>47.08</td>\n",
       "      <td>492.9</td>\n",
       "      <td>128.87</td>\n",
       "      <td>40.19</td>\n",
       "      <td>58.31</td>\n",
       "      <td>31.90</td>\n",
       "    </tr>\n",
       "    <tr>\n",
       "      <th>2006-01-04</th>\n",
       "      <td>46.58</td>\n",
       "      <td>483.8</td>\n",
       "      <td>127.09</td>\n",
       "      <td>39.62</td>\n",
       "      <td>58.35</td>\n",
       "      <td>31.53</td>\n",
       "    </tr>\n",
       "    <tr>\n",
       "      <th>2006-01-05</th>\n",
       "      <td>46.64</td>\n",
       "      <td>486.2</td>\n",
       "      <td>127.04</td>\n",
       "      <td>39.74</td>\n",
       "      <td>58.51</td>\n",
       "      <td>31.50</td>\n",
       "    </tr>\n",
       "    <tr>\n",
       "      <th>2006-01-06</th>\n",
       "      <td>46.57</td>\n",
       "      <td>486.2</td>\n",
       "      <td>128.84</td>\n",
       "      <td>40.02</td>\n",
       "      <td>58.57</td>\n",
       "      <td>31.68</td>\n",
       "    </tr>\n",
       "    <tr>\n",
       "      <th>2006-01-09</th>\n",
       "      <td>46.60</td>\n",
       "      <td>483.9</td>\n",
       "      <td>130.39</td>\n",
       "      <td>40.67</td>\n",
       "      <td>59.19</td>\n",
       "      <td>31.68</td>\n",
       "    </tr>\n",
       "  </tbody>\n",
       "</table>\n",
       "</div>"
      ],
      "text/plain": [
       "Bank Ticker    BAC      C      GS    JPM     MS    WFC\n",
       "Date                                                  \n",
       "2006-01-03   47.08  492.9  128.87  40.19  58.31  31.90\n",
       "2006-01-04   46.58  483.8  127.09  39.62  58.35  31.53\n",
       "2006-01-05   46.64  486.2  127.04  39.74  58.51  31.50\n",
       "2006-01-06   46.57  486.2  128.84  40.02  58.57  31.68\n",
       "2006-01-09   46.60  483.9  130.39  40.67  59.19  31.68"
      ]
     },
     "execution_count": 143,
     "metadata": {},
     "output_type": "execute_result"
    }
   ],
   "source": [
    "bank_stocks[tickers].xs('Close', level='Stock Info', axis=1).head()"
   ]
  },
  {
   "cell_type": "code",
   "execution_count": 144,
   "metadata": {
    "collapsed": true
   },
   "outputs": [],
   "source": [
    "for bank in tickers:\n",
    "    returns[str(bank) + ' Return'] = bank_stocks[bank]['Close'].pct_change()"
   ]
  },
  {
   "cell_type": "code",
   "execution_count": 145,
   "metadata": {},
   "outputs": [
    {
     "data": {
      "text/html": [
       "<div>\n",
       "<style>\n",
       "    .dataframe thead tr:only-child th {\n",
       "        text-align: right;\n",
       "    }\n",
       "\n",
       "    .dataframe thead th {\n",
       "        text-align: left;\n",
       "    }\n",
       "\n",
       "    .dataframe tbody tr th {\n",
       "        vertical-align: top;\n",
       "    }\n",
       "</style>\n",
       "<table border=\"1\" class=\"dataframe\">\n",
       "  <thead>\n",
       "    <tr style=\"text-align: right;\">\n",
       "      <th></th>\n",
       "      <th>BAC Return</th>\n",
       "      <th>C Return</th>\n",
       "      <th>GS Return</th>\n",
       "      <th>JPM Return</th>\n",
       "      <th>MS Return</th>\n",
       "      <th>WFC Return</th>\n",
       "    </tr>\n",
       "    <tr>\n",
       "      <th>Date</th>\n",
       "      <th></th>\n",
       "      <th></th>\n",
       "      <th></th>\n",
       "      <th></th>\n",
       "      <th></th>\n",
       "      <th></th>\n",
       "    </tr>\n",
       "  </thead>\n",
       "  <tbody>\n",
       "    <tr>\n",
       "      <th>2006-01-03</th>\n",
       "      <td>NaN</td>\n",
       "      <td>NaN</td>\n",
       "      <td>NaN</td>\n",
       "      <td>NaN</td>\n",
       "      <td>NaN</td>\n",
       "      <td>NaN</td>\n",
       "    </tr>\n",
       "    <tr>\n",
       "      <th>2006-01-04</th>\n",
       "      <td>-0.010620</td>\n",
       "      <td>-0.018462</td>\n",
       "      <td>-0.013812</td>\n",
       "      <td>-0.014183</td>\n",
       "      <td>0.000686</td>\n",
       "      <td>-0.011599</td>\n",
       "    </tr>\n",
       "    <tr>\n",
       "      <th>2006-01-05</th>\n",
       "      <td>0.001288</td>\n",
       "      <td>0.004961</td>\n",
       "      <td>-0.000393</td>\n",
       "      <td>0.003029</td>\n",
       "      <td>0.002742</td>\n",
       "      <td>-0.000951</td>\n",
       "    </tr>\n",
       "    <tr>\n",
       "      <th>2006-01-06</th>\n",
       "      <td>-0.001501</td>\n",
       "      <td>0.000000</td>\n",
       "      <td>0.014169</td>\n",
       "      <td>0.007046</td>\n",
       "      <td>0.001025</td>\n",
       "      <td>0.005714</td>\n",
       "    </tr>\n",
       "    <tr>\n",
       "      <th>2006-01-09</th>\n",
       "      <td>0.000644</td>\n",
       "      <td>-0.004731</td>\n",
       "      <td>0.012030</td>\n",
       "      <td>0.016242</td>\n",
       "      <td>0.010586</td>\n",
       "      <td>0.000000</td>\n",
       "    </tr>\n",
       "  </tbody>\n",
       "</table>\n",
       "</div>"
      ],
      "text/plain": [
       "            BAC Return  C Return  GS Return  JPM Return  MS Return  WFC Return\n",
       "Date                                                                          \n",
       "2006-01-03         NaN       NaN        NaN         NaN        NaN         NaN\n",
       "2006-01-04   -0.010620 -0.018462  -0.013812   -0.014183   0.000686   -0.011599\n",
       "2006-01-05    0.001288  0.004961  -0.000393    0.003029   0.002742   -0.000951\n",
       "2006-01-06   -0.001501  0.000000   0.014169    0.007046   0.001025    0.005714\n",
       "2006-01-09    0.000644 -0.004731   0.012030    0.016242   0.010586    0.000000"
      ]
     },
     "execution_count": 145,
     "metadata": {},
     "output_type": "execute_result"
    }
   ],
   "source": [
    "returns.head()"
   ]
  },
  {
   "cell_type": "markdown",
   "metadata": {},
   "source": [
    "** Create a pairplot using seaborn of the returns dataframe. What stock stands out to you? Can you figure out why?**"
   ]
  },
  {
   "cell_type": "code",
   "execution_count": 146,
   "metadata": {},
   "outputs": [
    {
     "data": {
      "text/plain": [
       "<seaborn.axisgrid.PairGrid at 0x11673e748>"
      ]
     },
     "execution_count": 146,
     "metadata": {},
     "output_type": "execute_result"
    },
    {
     "data": {
      "image/png": "[encoded data removed]",
      "text/plain": [
       "<matplotlib.figure.Figure at 0x11673e438>"
      ]
     },
     "metadata": {},
     "output_type": "display_data"
    }
   ],
   "source": [
    "sns.pairplot(returns.iloc[1:])"
   ]
  },
  {
   "cell_type": "markdown",
   "metadata": {},
   "source": [
    "* Citigroup stands out. They had a major collapse in 2008."
   ]
  },
  {
   "cell_type": "markdown",
   "metadata": {},
   "source": [
    "** Using this returns DataFrame, figure out on what dates each bank stock had the best and worst single day returns. You should notice that 4 of the banks share the same day for the worst drop, did anything significant happen that day?**"
   ]
  },
  {
   "cell_type": "code",
   "execution_count": 150,
   "metadata": {},
   "outputs": [
    {
     "data": {
      "text/plain": [
       "BAC Return   2009-01-20\n",
       "C Return     2011-05-06\n",
       "GS Return    2009-01-20\n",
       "JPM Return   2009-01-20\n",
       "MS Return    2008-10-09\n",
       "WFC Return   2009-01-20\n",
       "dtype: datetime64[ns]"
      ]
     },
     "execution_count": 150,
     "metadata": {},
     "output_type": "execute_result"
    }
   ],
   "source": [
    "returns.idxmin(0)"
   ]
  },
  {
   "cell_type": "markdown",
   "metadata": {},
   "source": [
    "** You should have noticed that Citigroup's largest drop and biggest gain were very close to one another, did anythign significant happen in that time frame? **"
   ]
  },
  {
   "cell_type": "markdown",
   "metadata": {},
   "source": [
    "* See Solution for details"
   ]
  },
  {
   "cell_type": "code",
   "execution_count": 151,
   "metadata": {},
   "outputs": [
    {
     "data": {
      "text/plain": [
       "BAC Return   2009-04-09\n",
       "C Return     2011-05-09\n",
       "GS Return    2008-11-24\n",
       "JPM Return   2009-01-21\n",
       "MS Return    2008-10-13\n",
       "WFC Return   2008-07-16\n",
       "dtype: datetime64[ns]"
      ]
     },
     "execution_count": 151,
     "metadata": {},
     "output_type": "execute_result"
    }
   ],
   "source": [
    "returns.idxmax(0)"
   ]
  },
  {
   "cell_type": "markdown",
   "metadata": {},
   "source": [
    "** Take a look at the standard deviation of the returns, which stock would you classify as the riskiest over the entire time period? Which would you classify as the riskiest for the year 2015?**"
   ]
  },
  {
   "cell_type": "code",
   "execution_count": 153,
   "metadata": {},
   "outputs": [
    {
     "data": {
      "text/plain": [
       "BAC Return    0.036650\n",
       "C Return      0.179969\n",
       "GS Return     0.025346\n",
       "JPM Return    0.027656\n",
       "MS Return     0.037820\n",
       "WFC Return    0.030233\n",
       "dtype: float64"
      ]
     },
     "execution_count": 153,
     "metadata": {},
     "output_type": "execute_result"
    }
   ],
   "source": [
    "# riskiest overall\n",
    "returns.std(0)"
   ]
  },
  {
   "cell_type": "code",
   "execution_count": 162,
   "metadata": {},
   "outputs": [
    {
     "data": {
      "text/plain": [
       "BAC Return    0.016163\n",
       "C Return      0.015289\n",
       "GS Return     0.014046\n",
       "JPM Return    0.014017\n",
       "MS Return     0.016249\n",
       "WFC Return    0.012591\n",
       "dtype: float64"
      ]
     },
     "execution_count": 162,
     "metadata": {},
     "output_type": "execute_result"
    }
   ],
   "source": [
    "# riskiest in 2015\n",
    "returns.loc['2015-01-01':'2016-01-01'].std()"
   ]
  },
  {
   "cell_type": "code",
   "execution_count": 163,
   "metadata": {},
   "outputs": [
    {
     "data": {
      "text/plain": [
       "'MS Return'"
      ]
     },
     "execution_count": 163,
     "metadata": {},
     "output_type": "execute_result"
    }
   ],
   "source": [
    "returns.loc['2015-01-01':'2016-01-01'].std().idxmax(0)"
   ]
  },
  {
   "cell_type": "markdown",
   "metadata": {},
   "source": [
    "** Create a distplot using seaborn of the 2015 returns for Morgan Stanley **"
   ]
  },
  {
   "cell_type": "code",
   "execution_count": 169,
   "metadata": {},
   "outputs": [
    {
     "data": {
      "text/plain": [
       "Date\n",
       "2015-01-02   -0.002320\n",
       "2015-01-05   -0.031258\n",
       "2015-01-06   -0.028800\n",
       "2015-01-07    0.014278\n",
       "2015-01-08    0.014889\n",
       "Name: MS Return, dtype: float64"
      ]
     },
     "execution_count": 169,
     "metadata": {},
     "output_type": "execute_result"
    }
   ],
   "source": [
    "ms_returns = returns['MS Return'].loc['2015-01-01':'2016-01-01']\n",
    "ms_returns.head()"
   ]
  },
  {
   "cell_type": "code",
   "execution_count": 179,
   "metadata": {},
   "outputs": [
    {
     "data": {
      "text/plain": [
       "<matplotlib.axes._subplots.AxesSubplot at 0x11c4b47b8>"
      ]
     },
     "execution_count": 179,
     "metadata": {},
     "output_type": "execute_result"
    },
    {
     "data": {
      "image/png": "[encoded data removed]",
      "text/plain": [
       "<matplotlib.figure.Figure at 0x11c4c87b8>"
      ]
     },
     "metadata": {},
     "output_type": "display_data"
    }
   ],
   "source": [
    "sns.distplot(ms_returns, bins=100)"
   ]
  },
  {
   "cell_type": "markdown",
   "metadata": {},
   "source": [
    "** Create a distplot using seaborn of the 2008 returns for CitiGroup **"
   ]
  },
  {
   "cell_type": "code",
   "execution_count": 186,
   "metadata": {},
   "outputs": [
    {
     "data": {
      "text/plain": [
       "<matplotlib.axes._subplots.AxesSubplot at 0x11c5da7f0>"
      ]
     },
     "execution_count": 186,
     "metadata": {},
     "output_type": "execute_result"
    },
    {
     "data": {
      "image/png": "[encoded data removed]",
      "text/plain": [
       "<matplotlib.figure.Figure at 0x11c618710>"
      ]
     },
     "metadata": {},
     "output_type": "display_data"
    }
   ],
   "source": [
    "sns.distplot(returns['C Return'].loc['2008-01-01':'2009-01-01'], bins=100)"
   ]
  },
  {
   "cell_type": "markdown",
   "metadata": {},
   "source": [
    "____\n",
    "# More Visualization\n",
    "\n",
    "A lot of this project will focus on visualizations. Feel free to use any of your preferred visualization libraries to try to recreate the described plots below, seaborn, matplotlib, plotly and cufflinks, or just pandas.\n",
    "\n",
    "### Imports"
   ]
  },
  {
   "cell_type": "code",
   "execution_count": 188,
   "metadata": {
    "collapsed": true
   },
   "outputs": [],
   "source": [
    "import matplotlib.pyplot as plt\n",
    "import seaborn as sns\n",
    "sns.set_style('whitegrid')\n",
    "%matplotlib inline\n",
    "\n",
    "# Optional Plotly Method Imports\n",
    "# import plotly\n",
    "# import cufflinks as cf\n",
    "# cf.go_offline()"
   ]
  },
  {
   "cell_type": "markdown",
   "metadata": {},
   "source": [
    "** Create a line plot showing Close price for each bank for the entire index of time. (Hint: Try using a for loop, or use [.xs](http://pandas.pydata.org/pandas-docs/stable/generated/pandas.DataFrame.xs.html) to get a cross section of the data.)**"
   ]
  },
  {
   "cell_type": "code",
   "execution_count": 206,
   "metadata": {},
   "outputs": [
    {
     "data": {
      "text/plain": [
       "<matplotlib.axes._subplots.AxesSubplot at 0x1165b1908>"
      ]
     },
     "execution_count": 206,
     "metadata": {},
     "output_type": "execute_result"
    },
    {
     "data": {
      "image/png": "[encoded data removed]",
      "text/plain": [
       "<matplotlib.figure.Figure at 0x1166ed390>"
      ]
     },
     "metadata": {},
     "output_type": "display_data"
    }
   ],
   "source": [
    "bank_stocks.xs('Close', level='Stock Info', axis=1).plot(figsize=(12, 6))"
   ]
  },
  {
   "cell_type": "markdown",
   "metadata": {},
   "source": [
    "## Moving Averages\n",
    "\n",
    "Let's analyze the moving averages for these stocks in the year 2008. \n",
    "\n",
    "** Plot the rolling 30 day average against the Close Price for Bank Of America's stock for the year 2008**"
   ]
  },
  {
   "cell_type": "code",
   "execution_count": 269,
   "metadata": {},
   "outputs": [
    {
     "data": {
      "text/plain": [
       "<matplotlib.text.Text at 0x11f71c5c0>"
      ]
     },
     "execution_count": 269,
     "metadata": {},
     "output_type": "execute_result"
    },
    {
     "data": {
      "image/png": "[encoded data removed]",
      "text/plain": [
       "<matplotlib.figure.Figure at 0x11f329cc0>"
      ]
     },
     "metadata": {},
     "output_type": "display_data"
    }
   ],
   "source": [
    "BAC_plot = bank_stocks['BAC'].loc['2008-01-01':'2009-01-01'].xs('Close', axis=1).rolling(30).mean().plot(label='30 Day Rolling Mean')\n",
    "bank_stocks['BAC']['Close'].loc['2008-01-01':'2009-01-01'].plot(figsize=(12, 6), label='BAC Close')\n",
    "plt.legend()\n",
    "BAC_plot.set_xlabel('Date')\n",
    "BAC_plot.set_ylabel('Close Price')"
   ]
  },
  {
   "cell_type": "markdown",
   "metadata": {},
   "source": [
    "** Create a heatmap of the correlation between the stocks Close Price.**"
   ]
  },
  {
   "cell_type": "code",
   "execution_count": 247,
   "metadata": {},
   "outputs": [
    {
     "data": {
      "text/html": [
       "<div>\n",
       "<style>\n",
       "    .dataframe thead tr:only-child th {\n",
       "        text-align: right;\n",
       "    }\n",
       "\n",
       "    .dataframe thead th {\n",
       "        text-align: left;\n",
       "    }\n",
       "\n",
       "    .dataframe tbody tr th {\n",
       "        vertical-align: top;\n",
       "    }\n",
       "</style>\n",
       "<table border=\"1\" class=\"dataframe\">\n",
       "  <thead>\n",
       "    <tr>\n",
       "      <th>Bank Ticker</th>\n",
       "      <th colspan=\"5\" halign=\"left\">BAC</th>\n",
       "      <th colspan=\"5\" halign=\"left\">C</th>\n",
       "      <th>...</th>\n",
       "      <th colspan=\"5\" halign=\"left\">MS</th>\n",
       "      <th colspan=\"5\" halign=\"left\">WFC</th>\n",
       "    </tr>\n",
       "    <tr>\n",
       "      <th>Stock Info</th>\n",
       "      <th>Open</th>\n",
       "      <th>High</th>\n",
       "      <th>Low</th>\n",
       "      <th>Close</th>\n",
       "      <th>Volume</th>\n",
       "      <th>Open</th>\n",
       "      <th>High</th>\n",
       "      <th>Low</th>\n",
       "      <th>Close</th>\n",
       "      <th>Volume</th>\n",
       "      <th>...</th>\n",
       "      <th>Open</th>\n",
       "      <th>High</th>\n",
       "      <th>Low</th>\n",
       "      <th>Close</th>\n",
       "      <th>Volume</th>\n",
       "      <th>Open</th>\n",
       "      <th>High</th>\n",
       "      <th>Low</th>\n",
       "      <th>Close</th>\n",
       "      <th>Volume</th>\n",
       "    </tr>\n",
       "    <tr>\n",
       "      <th>Date</th>\n",
       "      <th></th>\n",
       "      <th></th>\n",
       "      <th></th>\n",
       "      <th></th>\n",
       "      <th></th>\n",
       "      <th></th>\n",
       "      <th></th>\n",
       "      <th></th>\n",
       "      <th></th>\n",
       "      <th></th>\n",
       "      <th></th>\n",
       "      <th></th>\n",
       "      <th></th>\n",
       "      <th></th>\n",
       "      <th></th>\n",
       "      <th></th>\n",
       "      <th></th>\n",
       "      <th></th>\n",
       "      <th></th>\n",
       "      <th></th>\n",
       "      <th></th>\n",
       "    </tr>\n",
       "  </thead>\n",
       "  <tbody>\n",
       "    <tr>\n",
       "      <th>2006-01-03</th>\n",
       "      <td>46.92</td>\n",
       "      <td>47.18</td>\n",
       "      <td>46.15</td>\n",
       "      <td>47.08</td>\n",
       "      <td>16296700</td>\n",
       "      <td>490.0</td>\n",
       "      <td>493.8</td>\n",
       "      <td>481.1</td>\n",
       "      <td>492.9</td>\n",
       "      <td>1537660</td>\n",
       "      <td>...</td>\n",
       "      <td>57.17</td>\n",
       "      <td>58.49</td>\n",
       "      <td>56.74</td>\n",
       "      <td>58.31</td>\n",
       "      <td>5377000</td>\n",
       "      <td>31.60</td>\n",
       "      <td>31.98</td>\n",
       "      <td>31.20</td>\n",
       "      <td>31.90</td>\n",
       "      <td>11016400</td>\n",
       "    </tr>\n",
       "    <tr>\n",
       "      <th>2006-01-04</th>\n",
       "      <td>47.00</td>\n",
       "      <td>47.24</td>\n",
       "      <td>46.45</td>\n",
       "      <td>46.58</td>\n",
       "      <td>17757900</td>\n",
       "      <td>488.6</td>\n",
       "      <td>491.0</td>\n",
       "      <td>483.5</td>\n",
       "      <td>483.8</td>\n",
       "      <td>1871020</td>\n",
       "      <td>...</td>\n",
       "      <td>58.70</td>\n",
       "      <td>59.28</td>\n",
       "      <td>58.35</td>\n",
       "      <td>58.35</td>\n",
       "      <td>7977800</td>\n",
       "      <td>31.80</td>\n",
       "      <td>31.82</td>\n",
       "      <td>31.36</td>\n",
       "      <td>31.53</td>\n",
       "      <td>10871000</td>\n",
       "    </tr>\n",
       "    <tr>\n",
       "      <th>2006-01-05</th>\n",
       "      <td>46.58</td>\n",
       "      <td>46.83</td>\n",
       "      <td>46.32</td>\n",
       "      <td>46.64</td>\n",
       "      <td>14970900</td>\n",
       "      <td>484.4</td>\n",
       "      <td>487.8</td>\n",
       "      <td>484.0</td>\n",
       "      <td>486.2</td>\n",
       "      <td>1143160</td>\n",
       "      <td>...</td>\n",
       "      <td>58.55</td>\n",
       "      <td>58.59</td>\n",
       "      <td>58.02</td>\n",
       "      <td>58.51</td>\n",
       "      <td>5778000</td>\n",
       "      <td>31.50</td>\n",
       "      <td>31.56</td>\n",
       "      <td>31.31</td>\n",
       "      <td>31.50</td>\n",
       "      <td>10158000</td>\n",
       "    </tr>\n",
       "    <tr>\n",
       "      <th>2006-01-06</th>\n",
       "      <td>46.80</td>\n",
       "      <td>46.91</td>\n",
       "      <td>46.35</td>\n",
       "      <td>46.57</td>\n",
       "      <td>12599800</td>\n",
       "      <td>488.8</td>\n",
       "      <td>489.0</td>\n",
       "      <td>482.0</td>\n",
       "      <td>486.2</td>\n",
       "      <td>1370250</td>\n",
       "      <td>...</td>\n",
       "      <td>58.77</td>\n",
       "      <td>58.85</td>\n",
       "      <td>58.05</td>\n",
       "      <td>58.57</td>\n",
       "      <td>6889800</td>\n",
       "      <td>31.58</td>\n",
       "      <td>31.78</td>\n",
       "      <td>31.38</td>\n",
       "      <td>31.68</td>\n",
       "      <td>8403800</td>\n",
       "    </tr>\n",
       "    <tr>\n",
       "      <th>2006-01-09</th>\n",
       "      <td>46.72</td>\n",
       "      <td>46.97</td>\n",
       "      <td>46.36</td>\n",
       "      <td>46.60</td>\n",
       "      <td>15620000</td>\n",
       "      <td>486.0</td>\n",
       "      <td>487.4</td>\n",
       "      <td>483.0</td>\n",
       "      <td>483.9</td>\n",
       "      <td>1680740</td>\n",
       "      <td>...</td>\n",
       "      <td>58.63</td>\n",
       "      <td>59.29</td>\n",
       "      <td>58.62</td>\n",
       "      <td>59.19</td>\n",
       "      <td>4144500</td>\n",
       "      <td>31.68</td>\n",
       "      <td>31.82</td>\n",
       "      <td>31.56</td>\n",
       "      <td>31.68</td>\n",
       "      <td>5619600</td>\n",
       "    </tr>\n",
       "  </tbody>\n",
       "</table>\n",
       "<p>5 rows × 30 columns</p>\n",
       "</div>"
      ],
      "text/plain": [
       "Bank Ticker    BAC                                     C                       \\\n",
       "Stock Info    Open   High    Low  Close    Volume   Open   High    Low  Close   \n",
       "Date                                                                            \n",
       "2006-01-03   46.92  47.18  46.15  47.08  16296700  490.0  493.8  481.1  492.9   \n",
       "2006-01-04   47.00  47.24  46.45  46.58  17757900  488.6  491.0  483.5  483.8   \n",
       "2006-01-05   46.58  46.83  46.32  46.64  14970900  484.4  487.8  484.0  486.2   \n",
       "2006-01-06   46.80  46.91  46.35  46.57  12599800  488.8  489.0  482.0  486.2   \n",
       "2006-01-09   46.72  46.97  46.36  46.60  15620000  486.0  487.4  483.0  483.9   \n",
       "\n",
       "Bank Ticker             ...        MS                                  WFC  \\\n",
       "Stock Info    Volume    ...      Open   High    Low  Close   Volume   Open   \n",
       "Date                    ...                                                  \n",
       "2006-01-03   1537660    ...     57.17  58.49  56.74  58.31  5377000  31.60   \n",
       "2006-01-04   1871020    ...     58.70  59.28  58.35  58.35  7977800  31.80   \n",
       "2006-01-05   1143160    ...     58.55  58.59  58.02  58.51  5778000  31.50   \n",
       "2006-01-06   1370250    ...     58.77  58.85  58.05  58.57  6889800  31.58   \n",
       "2006-01-09   1680740    ...     58.63  59.29  58.62  59.19  4144500  31.68   \n",
       "\n",
       "Bank Ticker                                 \n",
       "Stock Info    High    Low  Close    Volume  \n",
       "Date                                        \n",
       "2006-01-03   31.98  31.20  31.90  11016400  \n",
       "2006-01-04   31.82  31.36  31.53  10871000  \n",
       "2006-01-05   31.56  31.31  31.50  10158000  \n",
       "2006-01-06   31.78  31.38  31.68   8403800  \n",
       "2006-01-09   31.82  31.56  31.68   5619600  \n",
       "\n",
       "[5 rows x 30 columns]"
      ]
     },
     "execution_count": 247,
     "metadata": {},
     "output_type": "execute_result"
    }
   ],
   "source": [
    "bank_stocks.head()"
   ]
  },
  {
   "cell_type": "code",
   "execution_count": 255,
   "metadata": {},
   "outputs": [
    {
     "data": {
      "text/plain": [
       "<matplotlib.axes._subplots.AxesSubplot at 0x11d153c50>"
      ]
     },
     "execution_count": 255,
     "metadata": {},
     "output_type": "execute_result"
    },
    {
     "data": {
      "image/png": "[encoded data removed]",
      "text/plain": [
       "<matplotlib.figure.Figure at 0x116d64860>"
      ]
     },
     "metadata": {},
     "output_type": "display_data"
    }
   ],
   "source": [
    "close_corr = bank_stocks.xs('Close', level='Stock Info', axis=1).corr()\n",
    "sns.heatmap(close_corr, annot=True, cmap='coolwarm', vmin=-1, vmax=1)"
   ]
  },
  {
   "cell_type": "markdown",
   "metadata": {},
   "source": [
    "** Optional: Use seaborn's clustermap to cluster the correlations together:**"
   ]
  },
  {
   "cell_type": "code",
   "execution_count": 256,
   "metadata": {},
   "outputs": [
    {
     "data": {
      "text/plain": [
       "<seaborn.matrix.ClusterGrid at 0x116151978>"
      ]
     },
     "execution_count": 256,
     "metadata": {},
     "output_type": "execute_result"
    },
    {
     "data": {
      "image/png": "[encoded data removed]",
      "text/plain": [
       "<matplotlib.figure.Figure at 0x116d1deb8>"
      ]
     },
     "metadata": {},
     "output_type": "display_data"
    }
   ],
   "source": [
    "sns.clustermap(close_corr, annot=True, cmap='coolwarm', vmin=-1, vmax=1)"
   ]
  },
  {
   "cell_type": "markdown",
   "metadata": {},
   "source": [
    "# Part 2 (Optional)\n",
    "\n",
    "In this second part of the project we will rely on the cufflinks library to create some Technical Analysis plots. This part of the project is experimental due to its heavy reliance on the cuffinks project, so feel free to skip it if any functionality is broken in the future."
   ]
  },
  {
   "cell_type": "markdown",
   "metadata": {
    "collapsed": true
   },
   "source": [
    "** Use .iplot(kind='candle) to create a candle plot of Bank of America's stock from Jan 1st 2015 to Jan 1st 2016.**"
   ]
  },
  {
   "cell_type": "markdown",
   "metadata": {},
   "source": [
    "** Use .ta_plot(study='sma') to create a Simple Moving Averages plot of Morgan Stanley for the year 2015.**"
   ]
  },
  {
   "cell_type": "markdown",
   "metadata": {},
   "source": [
    "**Use .ta_plot(study='boll') to create a Bollinger Band Plot for Bank of America for the year 2015.**"
   ]
  },
  {
   "cell_type": "markdown",
   "metadata": {},
   "source": [
    "# I need to use a different Python environment so I can use cufflinks. This optional part of the project was done in a different notebook."
   ]
  },
  {
   "cell_type": "markdown",
   "metadata": {},
   "source": [
    "# Great Job!\n",
    "\n",
    "Definitely a lot of more specific finance topics here, so don't worry if you didn't understand them all! The only thing you should be concerned with understanding are the basic pandas and visualization oeprations."
   ]
  }
 ],
 "metadata": {
  "kernelspec": {
   "display_name": "Python 3",
   "language": "python",
   "name": "python3"
  },
  "language_info": {
   "codemirror_mode": {
    "name": "ipython",
    "version": 3
   },
   "file_extension": ".py",
   "mimetype": "text/x-python",
   "name": "python",
   "nbconvert_exporter": "python",
   "pygments_lexer": "ipython3",
   "version": "3.6.1"
  }
 },
 "nbformat": 4,
 "nbformat_minor": 1
}
